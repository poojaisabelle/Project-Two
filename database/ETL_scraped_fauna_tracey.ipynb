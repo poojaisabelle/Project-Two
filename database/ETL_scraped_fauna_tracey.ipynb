{
 "cells": [
  {
   "cell_type": "code",
   "execution_count": 1,
   "metadata": {},
   "outputs": [],
   "source": [
    "# Import dependencies\n",
    "from time import sleep\n",
    "import pandas as pd\n",
    "from splinter import Browser\n",
    "from splinter.exceptions import ElementDoesNotExist\n",
    "from webdriver_manager.chrome import ChromeDriverManager\n",
    "from bs4 import BeautifulSoup as bs\n",
    "import pymongo\n",
    "import requests"
   ]
  },
  {
   "cell_type": "code",
   "execution_count": 2,
   "metadata": {},
   "outputs": [
    {
     "name": "stderr",
     "output_type": "stream",
     "text": [
      "[WDM] - Current google-chrome version is 85.0.4183\n",
      "[WDM] - Get LATEST driver version for 85.0.4183\n",
      "[WDM] - Driver [C:\\Users\\Boss\\.wdm\\drivers\\chromedriver\\win32\\85.0.4183.87\\chromedriver.exe] found in cache\n"
     ]
    },
    {
     "name": "stdout",
     "output_type": "stream",
     "text": [
      " \n"
     ]
    }
   ],
   "source": [
    "executable_path = {'executable_path': ChromeDriverManager().install()}\n",
    "browser = Browser('chrome', **executable_path, headless=False)"
   ]
  },
  {
   "cell_type": "markdown",
   "metadata": {},
   "source": [
    "## Extract: scrape animal data from zoo.org.au"
   ]
  },
  {
   "cell_type": "code",
   "execution_count": 3,
   "metadata": {},
   "outputs": [],
   "source": [
    "zoo_url = \"https://www.zoo.org.au/fighting-extinction/local-threatened-species/\"\n",
    "\n",
    "# Use splinter to navigate the site\n",
    "browser.visit(zoo_url)"
   ]
  },
  {
   "cell_type": "code",
   "execution_count": 4,
   "metadata": {},
   "outputs": [],
   "source": [
    "html = browser.html\n",
    "soup = bs(html, 'lxml')"
   ]
  },
  {
   "cell_type": "code",
   "execution_count": 5,
   "metadata": {},
   "outputs": [],
   "source": [
    "animal_html_list = soup.find_all(\"div\", class_=\"feature-tile__title\")"
   ]
  },
  {
   "cell_type": "code",
   "execution_count": 6,
   "metadata": {},
   "outputs": [],
   "source": [
    "animal_list = []\n",
    "\n",
    "for animal in animal_html_list:\n",
    "    animal_list.append(animal.get_text().split(\"(\")[0].strip())"
   ]
  },
  {
   "cell_type": "code",
   "execution_count": 7,
   "metadata": {},
   "outputs": [
    {
     "data": {
      "text/plain": [
       "['Alpine She-oak Skink',\n",
       " 'Baw Baw Frog',\n",
       " 'Brush-tailed Rock-wallaby',\n",
       " 'Eastern Barred Bandicoot',\n",
       " 'Giant Burrowing Frog',\n",
       " 'Golden-rayed Blue Butterfly',\n",
       " 'Grassland Earless Dragon',\n",
       " 'Guthega Skink',\n",
       " 'Helmeted Honeyeater',\n",
       " 'Key’s Matchstick Grasshopper',\n",
       " 'Large Brown Tree Frog',\n",
       " \"Leadbeater's Possum\",\n",
       " 'Lord Howe Island Stick Insect',\n",
       " 'Mallee Emu-wren',\n",
       " 'Mountain Pygmy-possum',\n",
       " 'New Holland Mouse',\n",
       " 'Northern Corroboree Frog',\n",
       " 'Orange-bellied Parrot',\n",
       " 'Plains-wanderer',\n",
       " 'Regent Honeyeater',\n",
       " 'Smoky Mouse',\n",
       " 'Southern Bent-wing Bat',\n",
       " 'Southern Corroboree Frog',\n",
       " 'Spotted Tree Frog',\n",
       " 'Stuttering Barred Frog',\n",
       " 'Swift Parrot',\n",
       " 'Tasmanian Devil']"
      ]
     },
     "execution_count": 7,
     "metadata": {},
     "output_type": "execute_result"
    }
   ],
   "source": [
    "animal_list"
   ]
  },
  {
   "cell_type": "code",
   "execution_count": 8,
   "metadata": {},
   "outputs": [],
   "source": [
    "browser.links.find_by_partial_text(\"Learn More\").click()"
   ]
  },
  {
   "cell_type": "code",
   "execution_count": 9,
   "metadata": {},
   "outputs": [
    {
     "name": "stdout",
     "output_type": "stream",
     "text": [
      "/media/2050/1023_alpine_she-oak_skink_healesville_sanctuary1.jpg?anchor=center&mode=crop&quality=75&width=2000&height=570&rnd=132131638000000000\n",
      "https://ZoosVic-Endpoint-Blob-Prod.azureedge.net/cache/b/e/1/1/7/7/be1177b387dee9357c9c3dc5943a2b44e2b0ccf0.jpg\n",
      "/media/2045/21882_brush-tailed_rock-wallabies_healesville_sanctuary.jpg?center=0.46198830409356723,0.31833333333333336&mode=crop&quality=75&width=2000&height=570&rnd=132131636770000000\n",
      "https://ZoosVic-Endpoint-Blob-Prod.azureedge.net/cache/7/2/7/b/5/7/727b5793e42cb8525539a99a1db9e7858ea93441.jpg\n",
      "/media/2056/23479_giant_burrowing_frog_-_credit_required_offsite1.jpg?anchor=center&mode=crop&quality=75&width=2000&height=570&rnd=132131643480000000\n",
      "/media/1703/animal-detail-page_0001_golden-rayed-blue-butterfly-credit-kate-pearce.jpg?anchor=center&mode=crop&quality=75&width=2000&height=570&rnd=132127412220000000\n",
      "https://ZoosVic-Endpoint-Blob-Prod.azureedge.net/cache/9/2/5/6/2/6/9256263fe32ce6095ba74d80f01336b9bbb217d3.jpg\n",
      "https://ZoosVic-Endpoint-Blob-Prod.azureedge.net/cache/9/e/9/8/5/2/9e98526fd2afd65895e0217825abb201941515e1.jpg\n",
      "/media/1681/18660_juvenile_helmeted_honeyeater_healesville_sanctuary.jpg?center=0.29019607843137257,0.56333333333333335&mode=crop&quality=75&width=2000&height=570&rnd=132127394630000000\n",
      "/media/1702/animal-detail-page_0000_keys-matchstick-grasshopper-credit-michael-kearney.jpg?anchor=center&mode=crop&quality=75&width=2000&height=570&rnd=132127409400000000\n",
      "/media/1701/animal-detail-page_0005_large-brown-tree-frog-creditmichael-mcfadden.jpg?center=0.3411764705882353,0.225&mode=crop&quality=75&width=2000&height=570&rnd=132127407870000000\n",
      "/media/2057/22861_leadbeater_s_possum_monitoring_offsite.jpg?anchor=center&mode=crop&quality=75&width=2000&height=570&rnd=132131644540000000\n",
      "https://ZoosVic-Endpoint-Blob-Prod.azureedge.net/cache/f/8/9/f/3/e/f89f3e9689ba7a021f878be93349c7366ea2fee1.jpg\n",
      "/media/1961/23483_mallee_emu-wren_offsite.jpg?anchor=center&mode=crop&quality=75&width=2000&height=570&rnd=132131595290000000\n",
      "https://ZoosVic-Endpoint-Blob-Prod.azureedge.net/cache/f/c/c/4/e/f/fcc4ef7213b3323c4353f37951ee29031e65d194.jpg\n",
      "/media/1732/new-holland-mouse.jpg?anchor=center&mode=crop&quality=75&width=2000&height=570&rnd=132127425380000000\n",
      "/media/1671/14621_northern_corroboree_frog_healesville_sanctuary.jpg?anchor=center&mode=crop&quality=75&width=2000&height=570&rnd=132127390300000000\n",
      "/media/2059/22407_orange-bellied_parrot_healesville_sanctuary.jpg?anchor=center&mode=crop&quality=75&width=2000&height=570&rnd=132131646350000000\n",
      "/media/1761/11190_plains_wanderer_offsite.jpg?anchor=center&mode=crop&quality=75&width=2000&height=570&rnd=132127434520000000\n",
      "/media/2055/22249_regent_honeyeater_melbourne_zoo.jpg?center=0.42690058479532161,0.39666666666666667&mode=crop&quality=75&width=2000&height=570&rnd=132131643320000000\n",
      "https://ZoosVic-Endpoint-Blob-Prod.azureedge.net/cache/7/1/4/d/c/a/714dca345e369aaf550209400c3f5c1a958d96b1.jpg\n",
      "/media/3866/9290_southern-bent-wing-bat_healesville-sanctuary.jpg?anchor=center&mode=crop&quality=75&width=2000&height=570&rnd=132355004050000000\n",
      "https://ZoosVic-Endpoint-Blob-Prod.azureedge.net/cache/7/1/0/e/6/6/710e667b6000b0ce779d8321e9d8813c8e903b7d.jpg\n",
      "https://ZoosVic-Endpoint-Blob-Prod.azureedge.net/cache/9/9/4/5/5/b/99455b37643a39628355e90ebc4d72fb38970f00.jpg\n",
      "https://ZoosVic-Endpoint-Blob-Prod.azureedge.net/cache/8/6/f/7/3/3/86f733f35882b73aa8d510321ffb9220ad507b3d.jpg\n",
      "https://ZoosVic-Endpoint-Blob-Prod.azureedge.net/cache/c/d/c/f/d/7/cdcfd7a619776a362d6f036bdd15a7a5e865cbfe.jpg\n",
      "https://ZoosVic-Endpoint-Blob-Prod.azureedge.net/cache/f/9/4/d/d/1/f94dd1b61e95d923d9fb009fe3b80ba74a73db45.jpg\n"
     ]
    }
   ],
   "source": [
    "animal_info_image_zoo = list()\n",
    "\n",
    "for item in animal_list:\n",
    "\n",
    "    sleep(1)\n",
    "    html = browser.html\n",
    "    soup = bs(html, 'lxml')\n",
    "\n",
    "    # Retrieve the first animal image url\n",
    "    image_url = soup.select_one(\"picture img\")[\"src\"]\n",
    "    print(image_url)\n",
    "    full_image_url = f\"https://www.zoo.org.au{image_url}\"\n",
    "\n",
    "    # Retrieve the first animal image url alternative\n",
    "    image_alternative = soup.select_one(\"picture img\")[\"alt\"]\n",
    "        \n",
    "    # Retrieve the introduction paragraphs\n",
    "    intro = soup.find(\"p\", class_=\"intro\").text.strip()\n",
    "\n",
    "    # Retrieve the first threat paragraph\n",
    "    try:\n",
    "        threat_paragraph = soup.find(\"div\", class_=\"row-wrapper--right-weighted-column\").text.strip()\n",
    "    except AttributeError:\n",
    "        results = soup.find_all(\"p\")\n",
    "        threat_paragraph = [result.text.strip() for result in results][1:4]\n",
    "        \n",
    "    # Append the dictionary with the above info to a list\n",
    "    animal_info_image_zoo.append({\n",
    "        \"animal_name\": item,\n",
    "        \"image_url\": full_image_url,\n",
    "        \"image_alternative\": image_alternative,\n",
    "        \"introduction\": intro,\n",
    "        \"threat_paragraph\": threat_paragraph\n",
    "    })\n",
    "\n",
    "    browser.find_by_xpath('//*[@id=\"main-content\"]/nav/div/div/div/div[2]/nav/a[2]').click()"
   ]
  },
  {
   "cell_type": "code",
   "execution_count": 11,
   "metadata": {},
   "outputs": [
    {
     "data": {
      "text/plain": [
       "[{'animal_name': 'Alpine She-oak Skink',\n",
       "  'image_url': 'https://www.zoo.org.au/media/2050/1023_alpine_she-oak_skink_healesville_sanctuary1.jpg?anchor=center&mode=crop&quality=75&width=2000&height=570&rnd=132131638000000000',\n",
       "  'image_alternative': 'Alpine She-oak Skink sunning it self on a rock with its tongue out.',\n",
       "  'introduction': 'Found in only a few locations in Victoria and NSW, the Alpine She-oak Skink is listed as endangered.',\n",
       "  'threat_paragraph': \"Major threats\\nFire is a huge danger to the Alpine She-Oak Skink. It kills individual skinks and destroys the understory vegetation. This makes any survivors vulnerable to predators.\\nClimate change is obviously a threat to all alpine areas. So is grazing and trampling by cattle and feral horses. The skink's habitat is also disturbed by the construction and maintenance of ski resorts and roads.\"},\n",
       " {'animal_name': 'Baw Baw Frog',\n",
       "  'image_url': 'https://www.zoo.org.auhttps://ZoosVic-Endpoint-Blob-Prod.azureedge.net/cache/b/e/1/1/7/7/be1177b387dee9357c9c3dc5943a2b44e2b0ccf0.jpg',\n",
       "  'image_alternative': 'Baw Baw Frog resting in bright green moss. Looking to the left.',\n",
       "  'introduction': 'All estimates point to extinction in the wild for the Baw Baw Frog in just five to 10 years.',\n",
       "  'threat_paragraph': 'Major threats\\nThe loss of the Baw Baw Frog is mainly due to the disease Chytridiomycosis caused by infection with Amphibian Chytrid Fungus. This is a big cause of frog deaths worldwide.'},\n",
       " {'animal_name': 'Brush-tailed Rock-wallaby',\n",
       "  'image_url': 'https://www.zoo.org.au/media/2045/21882_brush-tailed_rock-wallabies_healesville_sanctuary.jpg?center=0.46198830409356723,0.31833333333333336&mode=crop&quality=75&width=2000&height=570&rnd=132131636770000000',\n",
       "  'image_alternative': 'Brush Tailed Rock Wallabies resting in the grass.',\n",
       "  'introduction': 'In Victoria, the Brush-tailed Rock-wallaby now exists in only two small and isolated locations.',\n",
       "  'threat_paragraph': 'Major threats \\nChanges to habitat and the impact of feral cats, foxes and goats has led to the isolation of the few remaining populations of the Brush-tailed Rock-wallaby. This separation has created a lack of genetic diversity within the populations, another significant threat to the survival of the species.'},\n",
       " {'animal_name': 'Eastern Barred Bandicoot',\n",
       "  'image_url': 'https://www.zoo.org.auhttps://ZoosVic-Endpoint-Blob-Prod.azureedge.net/cache/7/2/7/b/5/7/727b5793e42cb8525539a99a1db9e7858ea93441.jpg',\n",
       "  'image_alternative': 'Small Eastern Barred Bandicoot side view foraging in leaf litter.',\n",
       "  'introduction': 'The Eastern Barred Bandicoot is listed as extinct in the wild.',\n",
       "  'threat_paragraph': 'The plan for recovery\\nZoos Victoria has partnered with several organisations to play a key role in the recovery of this species.\\nSince 1991, Zoos Victoria has bred more than 650 bandicoots. Now there are three reintroduced populations protected by predator-barrier fences on the mainland, and a fourth population on Churchill Island.\\nWhile we ensure our captive population is released into fox-free sites, we are also conducting trials to see if trained Maremma dogs can protect the Eastern Barred Bandicoots from predators'},\n",
       " {'animal_name': 'Giant Burrowing Frog',\n",
       "  'image_url': 'https://www.zoo.org.au/media/2056/23479_giant_burrowing_frog_-_credit_required_offsite1.jpg?anchor=center&mode=crop&quality=75&width=2000&height=570&rnd=132131643480000000',\n",
       "  'image_alternative': 'Giant Burrowing Frog on wet rocks side view. The frog is dark brown with yellow lips and spots on its side.',\n",
       "  'introduction': 'Although we know that populations of the Giant Burrowing Frog are in decline, this elusive digger is one of Victoria’s most poorly understood species.',\n",
       "  'threat_paragraph': ['Over the next five years, Zoos Victoria will carry out important on-the-ground surveys to discover more about the Giant Burrowing Frog and its remote habitat. In the meantime, we are securing the wellbeing of the individual frogs in our care.',\n",
       "   'Photo: Rohan Bilney',\n",
       "   'Conservation Status']},\n",
       " {'animal_name': 'Golden-rayed Blue Butterfly',\n",
       "  'image_url': 'https://www.zoo.org.au/media/1703/animal-detail-page_0001_golden-rayed-blue-butterfly-credit-kate-pearce.jpg?anchor=center&mode=crop&quality=75&width=2000&height=570&rnd=132127412220000000',\n",
       "  'image_alternative': 'Golden Rayed Blue Butterfly resting with wings spread on dry grass. Its brown with faint iridescent blue suffusion and golden veins.',\n",
       "  'introduction': 'This Victorian butterfly is critically endangered.',\n",
       "  'threat_paragraph': ['It lives in the narrow bands of remnant floodplains that border a handful of salt-lakes in the west of the state. The Golden-rayed Blue Butterfly feeds on only one species of plant, known commonly as Creeping Boobialla.',\n",
       "   'Degraded habitat is the biggest threat to the survival of the Golden-rayed Blue Butterfly. Living in a restricted area doesn’t help its cause. Over time it has lost its marginal habitat around the salt-lakes, mainly through cropping and grazing.',\n",
       "   'The invasive paperbark tree is another problem as it displaces the butterfly’s food plant. This tree also reduces the sunny, open areas preferred by the adult butterfly.']},\n",
       " {'animal_name': 'Grassland Earless Dragon',\n",
       "  'image_url': 'https://www.zoo.org.auhttps://ZoosVic-Endpoint-Blob-Prod.azureedge.net/cache/9/2/5/6/2/6/9256263fe32ce6095ba74d80f01336b9bbb217d3.jpg',\n",
       "  'image_alternative': 'Grassland Earless Dragon lizard side view looking over its right shoulder at the camera.',\n",
       "  'introduction': 'The Grassland Earless Dragon has not appeared in Victoria since 1969.',\n",
       "  'threat_paragraph': 'The plan for recovery\\nZoos Victoria has been actively searching for the dragon since 2017 and is committed to continuing the quest. We are conducting habitat assessments throughout the western basalt plains of Victoria.\\nMeanwhile, we are providing husbandry and breeding support for the National Recovery Team working with populations from the ACT and NSW.'},\n",
       " {'animal_name': 'Guthega Skink',\n",
       "  'image_url': 'https://www.zoo.org.auhttps://ZoosVic-Endpoint-Blob-Prod.azureedge.net/cache/9/e/9/8/5/2/9e98526fd2afd65895e0217825abb201941515e1.jpg',\n",
       "  'image_alternative': 'Baby Guthega Skink side view. Lizard looking towards the left.',\n",
       "  'introduction': 'The Guthega Skink is endangered in Victoria and is only found on the Bogong High Plains.',\n",
       "  'threat_paragraph': 'Major threats\\nHabitat disturbance caused by grazing cattle and feral horses is a major threat to the Guthega Skink. As their population exists in a restricted area they are also very vulnerable to fire. Large bushfires in the region have killed many skinks and destroyed the understorey vegetation that protects them from predators. Skinks living in alpine areas are also threatened by climate change.'},\n",
       " {'animal_name': 'Helmeted Honeyeater',\n",
       "  'image_url': 'https://www.zoo.org.au/media/1681/18660_juvenile_helmeted_honeyeater_healesville_sanctuary.jpg?center=0.29019607843137257,0.56333333333333335&mode=crop&quality=75&width=2000&height=570&rnd=132127394630000000',\n",
       "  'image_alternative': 'Juvenile Helmeted Honeyeater standing on a tree branch. Its a striking yellow colour with black and olive. ',\n",
       "  'introduction': 'The Helmeted Honeyeater, the bird emblem for Victoria, is critically endangered.',\n",
       "  'threat_paragraph': 'Major threats\\nLoss of habitat is the primary threat to the Helmeted Honeyeater. They need to live close to water, so drought, bushfire, and competition from other birds also endanger their existence.'},\n",
       " {'animal_name': 'Key’s Matchstick Grasshopper',\n",
       "  'image_url': 'https://www.zoo.org.au/media/1702/animal-detail-page_0000_keys-matchstick-grasshopper-credit-michael-kearney.jpg?anchor=center&mode=crop&quality=75&width=2000&height=570&rnd=132127409400000000',\n",
       "  'image_alternative': \"Key's Matchstick Grasshopper. Its brown with a pointed head. \",\n",
       "  'introduction': 'This distinctive grasshopper is flightless and has a long, stretched body shape.',\n",
       "  'threat_paragraph': ['The Key’s Matchstick Grasshopper hasn’t been seen in Victoria for decades, but it has been reported in a handful of locations in southern NSW and the ACT.',\n",
       "   'The Key’s Matchstick Grasshopper is found in habitat dominated by a tall perennial grass. It doesn’t eat the grass, but probably relies on it for protection from predators and extremes of weather. As this habitat is within south-eastern Australia’s wheat and grazing belt, almost none remains.',\n",
       "   'Researchers at the University of Melbourne are working to discover more about the remaining and extinct grasshopper populations.']}]"
      ]
     },
     "execution_count": 11,
     "metadata": {},
     "output_type": "execute_result"
    }
   ],
   "source": [
    "animal_info_image_zoo[:10]"
   ]
  },
  {
   "cell_type": "markdown",
   "metadata": {},
   "source": [
    "## Extract: scrape animal data from environment.vic.gov.au"
   ]
  },
  {
   "cell_type": "code",
   "execution_count": 12,
   "metadata": {},
   "outputs": [],
   "source": [
    "# URL of page to be scraped\n",
    "url = \"https://www.environment.vic.gov.au/conserving-threatened-species/threatened-species\"\n",
    "\n",
    "# Use splinter to navigate the site\n",
    "browser.visit(url)"
   ]
  },
  {
   "cell_type": "code",
   "execution_count": 13,
   "metadata": {},
   "outputs": [],
   "source": [
    "# Create BeautifulSoup object; parse with 'lxml'\n",
    "html = browser.html\n",
    "soup = bs(html, 'lxml')"
   ]
  },
  {
   "cell_type": "code",
   "execution_count": 14,
   "metadata": {},
   "outputs": [
    {
     "name": "stdout",
     "output_type": "stream",
     "text": [
      "Caring for Our Environment - Faunal Emblems Program\n",
      "Baw Baw Frog\n",
      "Brush-tailed Rock-wallaby\n",
      "Eastern Barred Bandicoot\n",
      "Greater Glider\n",
      "Helmeted Honeyeater\n",
      "Hooded Plover\n",
      "Leadbeater's Possum\n",
      "Macquarie Perch (PDF, 397.0 KB)\n",
      "Mountain Pygmy-possum\n",
      "Orange-bellied Parrot\n",
      "Plains-wanderer\n",
      "Regent Honeyeater\n",
      "Mountain Swainson-pea Swainsona recta (PDF, 330.7 KB)\n",
      "Concave Pomaderris (Pomaderris subplicata) (PDF, 1.5 MB)\n",
      "Phantom Wattle  (Acacia phasmoides) (PDF, 331.8 KB)\n",
      "Stony Bush-pea (Pultanea lapidosa) (PDF, 2.7 MB)\n"
     ]
    }
   ],
   "source": [
    "text_with_links = soup.find_all(class_ = 'internal-link')\n",
    "\n",
    "for text in text_with_links:\n",
    "    print(text.get_text())"
   ]
  },
  {
   "cell_type": "code",
   "execution_count": 15,
   "metadata": {},
   "outputs": [
    {
     "data": {
      "text/plain": [
       "['Baw Baw Frog',\n",
       " 'Brush-tailed Rock-wallaby',\n",
       " 'Eastern Barred Bandicoot',\n",
       " 'Greater Glider',\n",
       " 'Helmeted Honeyeater',\n",
       " 'Hooded Plover',\n",
       " \"Leadbeater's Possum\",\n",
       " 'Macquarie Perch (PDF, 397.0 KB)',\n",
       " 'Mountain Pygmy-possum',\n",
       " 'Orange-bellied Parrot',\n",
       " 'Plains-wanderer',\n",
       " 'Regent Honeyeater']"
      ]
     },
     "execution_count": 15,
     "metadata": {},
     "output_type": "execute_result"
    }
   ],
   "source": [
    "# As we are only interested in fauna, we'll only keep animal names.\n",
    "text_to_search = [text.get_text() for text in text_with_links][1: -4]\n",
    "text_to_search"
   ]
  },
  {
   "cell_type": "code",
   "execution_count": 16,
   "metadata": {},
   "outputs": [
    {
     "name": "stdout",
     "output_type": "stream",
     "text": [
      "https://www.environment.vic.gov.au/__data/assets/image/0027/429534/Baw-Baw-Frog.jpg\n",
      "https://www.environment.vic.gov.au/__data/assets/image/0030/428556/Eastern-Barred-Bandicoot.jpg\n",
      "https://www.environment.vic.gov.au/__data/assets/image/0024/440367/Greater-Glider-black-Steve-Smith.jpg\n",
      "https://www.environment.vic.gov.au/__data/assets/image/0031/427846/Helmeted-Honeyeater.jpg\n",
      "https://www.environment.vic.gov.au/__data/assets/image/0030/428808/IMG_3825lr.jpg\n",
      "https://www.environment.vic.gov.au/__data/assets/image/0033/427983/Lowland-LBP_Zoos-Victoria.JPG\n",
      "https://www.environment.vic.gov.au/__data/assets/image/0026/428930/28310791230_680f9be730_k.jpg\n",
      "https://www.environment.vic.gov.au/__data/assets/image/0024/428640/OBP.jpg\n",
      "https://www.environment.vic.gov.au/__data/assets/image/0029/428618/Plains-wanderer.jpg\n",
      "https://www.environment.vic.gov.au/__data/assets/image/0025/429514/2015-Yellow-Yellow-Red-Metal-YYRM_Dean-Ingwersen.jpg\n"
     ]
    }
   ],
   "source": [
    "animal_info_image_environment = []\n",
    "\n",
    "for i in range(len(text_to_search)):\n",
    "    \n",
    "    \n",
    "    # Click each of the links to the threatened species in order to find the image url to the full resolution image.\n",
    "    browser.find_by_xpath(f'//*[@id=\"content_container_70299\"]/p[{i+1}]/a').click()\n",
    "    sleep(1)\n",
    "    html = browser.html\n",
    "    soup = bs(html, 'lxml')\n",
    "\n",
    "    if text_to_search[i] == \"Macquarie Perch (PDF, 397.0 KB)\":\n",
    "        browser.visit(url)\n",
    "        sleep(1)\n",
    "        \n",
    "    else:\n",
    "        # Retrieve the first animal image url\n",
    "        try:\n",
    "            full_image_url = soup.select_one(\"div.content-wrapper__col-content img\")[\"src\"]\n",
    "            print(full_image_url)\n",
    "        except TypeError:\n",
    "            full_image_url = None\n",
    "\n",
    "        # Retrieve the species info section\n",
    "        try:\n",
    "            intro = soup.find(\"div\", class_=\"col-xs-12 col-sm-6 feature-box\").text.strip()\n",
    "        except AttributeError:\n",
    "            results = soup.find_all(\"div\", class_=\"row top-xs\")\n",
    "            intro = [result.text.strip() for result in results][0]\n",
    "\n",
    "        # Retrieve the first threat paragraph\n",
    "        try:\n",
    "            threat_paragraph = soup.find(\"div\", class_=\"col-xs-12 feature-box\").text.strip()\n",
    "        except AttributeError:\n",
    "            results = soup.find_all(\"div\", class_=\"row top-xs\")\n",
    "            threat_paragraph = [result.text.strip() for result in results][1]\n",
    "\n",
    "        # Append the dictionary with the above info to a list\n",
    "        animal_info_image_environment.append({\n",
    "            \"animal_name\": text_to_search[i],\n",
    "            \"image_url\": full_image_url,\n",
    "            \"image_alternative\": text_to_search[i],\n",
    "            \"introduction\": intro,\n",
    "            \"threat_paragraph\": threat_paragraph\n",
    "        })\n",
    "        \n",
    "        browser.visit(url) \n",
    "        sleep(1)"
   ]
  },
  {
   "cell_type": "code",
   "execution_count": null,
   "metadata": {},
   "outputs": [],
   "source": []
  },
  {
   "cell_type": "code",
   "execution_count": null,
   "metadata": {},
   "outputs": [],
   "source": []
  },
  {
   "cell_type": "code",
   "execution_count": null,
   "metadata": {},
   "outputs": [],
   "source": []
  }
 ],
 "metadata": {
  "kernelspec": {
   "display_name": "Python [conda env:PythonData] *",
   "language": "python",
   "name": "conda-env-PythonData-py"
  },
  "language_info": {
   "codemirror_mode": {
    "name": "ipython",
    "version": 3
   },
   "file_extension": ".py",
   "mimetype": "text/x-python",
   "name": "python",
   "nbconvert_exporter": "python",
   "pygments_lexer": "ipython3",
   "version": "3.7.6"
  },
  "toc": {
   "base_numbering": 1,
   "nav_menu": {},
   "number_sections": true,
   "sideBar": true,
   "skip_h1_title": false,
   "title_cell": "Table of Contents",
   "title_sidebar": "Contents",
   "toc_cell": false,
   "toc_position": {},
   "toc_section_display": true,
   "toc_window_display": false
  },
  "varInspector": {
   "cols": {
    "lenName": 16,
    "lenType": 16,
    "lenVar": 40
   },
   "kernels_config": {
    "python": {
     "delete_cmd_postfix": "",
     "delete_cmd_prefix": "del ",
     "library": "var_list.py",
     "varRefreshCmd": "print(var_dic_list())"
    },
    "r": {
     "delete_cmd_postfix": ") ",
     "delete_cmd_prefix": "rm(",
     "library": "var_list.r",
     "varRefreshCmd": "cat(var_dic_list()) "
    }
   },
   "types_to_exclude": [
    "module",
    "function",
    "builtin_function_or_method",
    "instance",
    "_Feature"
   ],
   "window_display": false
  }
 },
 "nbformat": 4,
 "nbformat_minor": 4
}
