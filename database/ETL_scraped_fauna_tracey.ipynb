{
 "cells": [
  {
   "cell_type": "code",
   "execution_count": 1,
   "metadata": {},
   "outputs": [],
   "source": [
    "# Import dependencies\n",
    "from time import sleep\n",
    "import pandas as pd\n",
    "from splinter import Browser\n",
    "from splinter.exceptions import ElementDoesNotExist\n",
    "from selenium.webdriver import ActionChains\n",
    "from webdriver_manager.chrome import ChromeDriverManager\n",
    "from bs4 import BeautifulSoup as bs\n",
    "import pymongo\n",
    "import requests"
   ]
  },
  {
   "cell_type": "code",
   "execution_count": 2,
   "metadata": {},
   "outputs": [
    {
     "name": "stderr",
     "output_type": "stream",
     "text": [
      "[WDM] - Current google-chrome version is 85.0.4183\n",
      "[WDM] - Get LATEST driver version for 85.0.4183\n",
      "[WDM] - Driver [C:\\Users\\Boss\\.wdm\\drivers\\chromedriver\\win32\\85.0.4183.87\\chromedriver.exe] found in cache\n"
     ]
    },
    {
     "name": "stdout",
     "output_type": "stream",
     "text": [
      " \n"
     ]
    }
   ],
   "source": [
    "executable_path = {'executable_path': ChromeDriverManager().install()}\n",
    "browser = Browser('chrome', **executable_path, headless=False)"
   ]
  },
  {
   "cell_type": "markdown",
   "metadata": {},
   "source": [
    "## Extract: scrape animal data from zoo.org.au"
   ]
  },
  {
   "cell_type": "markdown",
   "metadata": {},
   "source": [
    "call to browser windows-site"
   ]
  },
  {
   "cell_type": "code",
   "execution_count": 3,
   "metadata": {},
   "outputs": [],
   "source": [
    "zoo_url = \"https://www.zoo.org.au/fighting-extinction/local-threatened-species/\"\n",
    "\n",
    "# Use splinter to navigate the site\n",
    "browser.visit(zoo_url)"
   ]
  },
  {
   "cell_type": "code",
   "execution_count": 4,
   "metadata": {},
   "outputs": [],
   "source": [
    "html = browser.html\n",
    "soup = bs(html, 'lxml')"
   ]
  },
  {
   "cell_type": "code",
   "execution_count": 5,
   "metadata": {},
   "outputs": [],
   "source": [
    "animal_html_list = soup.find_all(\"div\", class_=\"feature-tile__title\")"
   ]
  },
  {
   "cell_type": "code",
   "execution_count": 6,
   "metadata": {},
   "outputs": [],
   "source": [
    "animal_list = []\n",
    "\n",
    "for animal in animal_html_list:\n",
    "    animal_list.append(animal.get_text().split(\"(\")[0].strip())"
   ]
  },
  {
   "cell_type": "code",
   "execution_count": 7,
   "metadata": {},
   "outputs": [
    {
     "data": {
      "text/plain": [
       "['Alpine She-oak Skink',\n",
       " 'Baw Baw Frog',\n",
       " 'Brush-tailed Rock-wallaby',\n",
       " 'Eastern Barred Bandicoot',\n",
       " 'Giant Burrowing Frog',\n",
       " 'Golden-rayed Blue Butterfly',\n",
       " 'Grassland Earless Dragon',\n",
       " 'Guthega Skink',\n",
       " 'Helmeted Honeyeater',\n",
       " 'Key’s Matchstick Grasshopper',\n",
       " 'Large Brown Tree Frog',\n",
       " \"Leadbeater's Possum\",\n",
       " 'Lord Howe Island Stick Insect',\n",
       " 'Mallee Emu-wren',\n",
       " 'Mountain Pygmy-possum',\n",
       " 'New Holland Mouse',\n",
       " 'Northern Corroboree Frog',\n",
       " 'Orange-bellied Parrot',\n",
       " 'Plains-wanderer',\n",
       " 'Regent Honeyeater',\n",
       " 'Smoky Mouse',\n",
       " 'Southern Bent-wing Bat',\n",
       " 'Southern Corroboree Frog',\n",
       " 'Spotted Tree Frog',\n",
       " 'Stuttering Barred Frog',\n",
       " 'Swift Parrot',\n",
       " 'Tasmanian Devil']"
      ]
     },
     "execution_count": 7,
     "metadata": {},
     "output_type": "execute_result"
    }
   ],
   "source": [
    "animal_list"
   ]
  },
  {
   "cell_type": "code",
   "execution_count": 8,
   "metadata": {},
   "outputs": [],
   "source": [
    "browser.links.find_by_partial_text(\"Learn More\").click()"
   ]
  },
  {
   "cell_type": "code",
   "execution_count": 9,
   "metadata": {},
   "outputs": [],
   "source": [
    "animal_info_image_urls = list()\n",
    "\n",
    "for item in animal_list:\n",
    "\n",
    "    sleep(1)\n",
    "    html = browser.html\n",
    "    soup = bs(html, 'lxml')\n",
    "\n",
    "    # Retrieve the first animal image url\n",
    "    image_url = soup.select_one(\"picture img\")[\"src\"]\n",
    "    full_image_url = f\"https://www.zoo.org.au{image_url}\"\n",
    "\n",
    "    # Retrieve the first animal image url alternative\n",
    "    image_alternative = soup.select_one(\"picture img\")[\"alt\"]\n",
    "        \n",
    "    # Retrieve the introduction paragraphs\n",
    "    try:\n",
    "        intro_paragraph = soup.find(\"div\", class_=\"row-wrapper--one-column\").text.strip()\n",
    "    except AttributeError:\n",
    "        results = soup.find_all(\"p\")\n",
    "        intro_paragraph = [result.text.strip() for result in results][0]\n",
    "\n",
    "    # Retrieve the first threat paragraph\n",
    "    try:\n",
    "        threat_paragraph = soup.find(\"div\", class_=\"row-wrapper--right-weighted-column\").text.strip()\n",
    "    except AttributeError:\n",
    "        results = soup.find_all(\"p\")\n",
    "        threat_paragraph = [result.text.strip() for result in results][1:4]\n",
    "        \n",
    "    # Append the dictionary with the above info to a list\n",
    "    animal_info_image_urls.append({\n",
    "        \"animal_name\": item,\n",
    "        \"intro_paragraph\": intro_paragraph,\n",
    "        \"image_url\": full_image_url,\n",
    "        \"image_alternative\": image_alternative,\n",
    "        \"threat_paragraph\": threat_paragraph\n",
    "    })\n",
    "\n",
    "    browser.find_by_xpath('//*[@id=\"main-content\"]/nav/div/div/div/div[2]/nav/a[2]').click()"
   ]
  },
  {
   "cell_type": "code",
   "execution_count": 10,
   "metadata": {},
   "outputs": [
    {
     "data": {
      "text/plain": [
       "[{'animal_name': 'Alpine She-oak Skink',\n",
       "  'intro_paragraph': 'It lives 1500m above sea level at the top of isolated mountain habitats. Alpine She-oak Skinks will imitate a snake if threatened, pulling their legs in close to their body and flicking their tongues. They hibernate over winter and are known to live for more than five years in the wild.',\n",
       "  'image_url': 'https://www.zoo.org.au/media/2050/1023_alpine_she-oak_skink_healesville_sanctuary1.jpg?anchor=center&mode=crop&quality=75&width=2000&height=570&rnd=132131638000000000',\n",
       "  'threat_paragraph': \"Major threats\\nFire is a huge danger to the Alpine She-Oak Skink. It kills individual skinks and destroys the understory vegetation. This makes any survivors vulnerable to predators.\\nClimate change is obviously a threat to all alpine areas. So is grazing and trampling by cattle and feral horses. The skink's habitat is also disturbed by the construction and maintenance of ski resorts and roads.\"},\n",
       " {'animal_name': 'Baw Baw Frog',\n",
       "  'intro_paragraph': 'The wild population has declined by more than 98% since the late 1980s. It lives and feeds amongst leaf litter and muddy earth on the Mount Baw Baw plateau, hunting worms and other invertebrates. The males and females meet to breed in late spring, and the tadpoles hatch five to eight weeks later, much earlier than most other frogs.',\n",
       "  'image_url': 'https://www.zoo.org.auhttps://ZoosVic-Endpoint-Blob-Prod.azureedge.net/cache/b/e/1/1/7/7/be1177b387dee9357c9c3dc5943a2b44e2b0ccf0.jpg',\n",
       "  'threat_paragraph': 'Major threats\\nThe loss of the Baw Baw Frog is mainly due to the disease Chytridiomycosis caused by infection with Amphibian Chytrid Fungus. This is a big cause of frog deaths worldwide.'},\n",
       " {'animal_name': 'Brush-tailed Rock-wallaby',\n",
       "  'intro_paragraph': 'There are less than 30 animals in each place. This agile species lives in rugged, rocky areas and can bound great distances, up and across rocky terrain. They hide among the rocky ridges during the day and emerge at dusk to feed on native grasses and other vegetation. Brush-tailed Rock-wallabies inhabit the region from south-eastern Queensland to eastern New South Wales and Victoria. They are recognised as three genetically distinct populations. The population known as the southern form is the one located in Victoria.',\n",
       "  'image_url': 'https://www.zoo.org.auhttps://ZoosVic-Endpoint-Blob-Prod.azureedge.net/cache/8/c/0/1/8/f/8c018f2bc41fbb3b29c8b64d1d3b0b2ef93654c3.jpg',\n",
       "  'threat_paragraph': 'Major threats \\nChanges to habitat and the impact of feral cats, foxes and goats has led to the isolation of the few remaining populations of the Brush-tailed Rock-wallaby. This separation has created a lack of genetic diversity within the populations, another significant threat to the survival of the species.'},\n",
       " {'animal_name': 'Eastern Barred Bandicoot',\n",
       "  'intro_paragraph': 'These small nocturnal marsupials were once widespread across the grasslands and woodlands of western Victoria and South Australia.\\nThe decline of the Eastern Barred Bandicoot is primarily due to loss of habitat and threat from foxes.',\n",
       "  'image_url': 'https://www.zoo.org.au/media/2053/4376_eastern_barred_bandicoot_in_bandicoot_hideout_werribee_open_range_zoo.jpg?center=0.48333333333333334,0.37333333333333335&mode=crop&quality=75&width=2000&height=570&rnd=132131642280000000',\n",
       "  'threat_paragraph': 'The plan for recovery\\nZoos Victoria has partnered with several organisations to play a key role in the recovery of this species.\\nSince 1991, Zoos Victoria has bred more than 650 bandicoots. Now there are three reintroduced populations protected by predator-barrier fences on the mainland, and a fourth population on Churchill Island.\\nWhile we ensure our captive population is released into fox-free sites, we are also conducting trials to see if trained Maremma dogs can protect the Eastern Barred Bandicoots from predators'},\n",
       " {'animal_name': 'Giant Burrowing Frog',\n",
       "  'intro_paragraph': 'The plan for fighting extinction\\nOver the next five years, Zoos Victoria will carry out important on-the-ground surveys to discover more about the Giant Burrowing Frog and its remote habitat. In the meantime, we are securing the wellbeing of the individual frogs in our care.',\n",
       "  'image_url': 'https://www.zoo.org.au/media/2056/23479_giant_burrowing_frog_-_credit_required_offsite1.jpg?anchor=center&mode=crop&quality=75&width=2000&height=570&rnd=132131643480000000',\n",
       "  'threat_paragraph': ['Over the next five years, Zoos Victoria will carry out important on-the-ground surveys to discover more about the Giant Burrowing Frog and its remote habitat. In the meantime, we are securing the wellbeing of the individual frogs in our care.',\n",
       "   'Photo: Rohan Bilney',\n",
       "   'Conservation Status']}]"
      ]
     },
     "execution_count": 10,
     "metadata": {},
     "output_type": "execute_result"
    }
   ],
   "source": [
    "animal_info_image_urls[:5]"
   ]
  },
  {
   "cell_type": "markdown",
   "metadata": {},
   "source": [
    "## Extract: scrape animal data from environment.vic.gov.au"
   ]
  },
  {
   "cell_type": "code",
   "execution_count": null,
   "metadata": {},
   "outputs": [],
   "source": [
    "# URL of page to be scraped\n",
    "url = \"https://www.environment.vic.gov.au/conserving-threatened-species/threatened-species\"\n",
    "\n",
    "# Use splinter to navigate the site\n",
    "browser.visit(url)"
   ]
  },
  {
   "cell_type": "code",
   "execution_count": null,
   "metadata": {},
   "outputs": [],
   "source": [
    "# Create BeautifulSoup object; parse with 'lxml'\n",
    "html = browser.html\n",
    "soup = bs(html, 'lxml')"
   ]
  },
  {
   "cell_type": "code",
   "execution_count": null,
   "metadata": {},
   "outputs": [],
   "source": [
    "text_with_links = soup.find_all(class_ = 'internal-link')\n",
    "\n",
    "for text in text_with_links:\n",
    "    print(text.get_text())"
   ]
  },
  {
   "cell_type": "code",
   "execution_count": null,
   "metadata": {},
   "outputs": [],
   "source": [
    "# As we are only interested in fauna, we'll only keep animal names.\n",
    "text_to_search = [text.get_text() for text in text_with_links][1: -4]\n",
    "text_to_search"
   ]
  },
  {
   "cell_type": "code",
   "execution_count": null,
   "metadata": {},
   "outputs": [],
   "source": [
    "# ensuring the link is in view\n",
    "browser.execute_script('window.scrollTo(0, 1000);')"
   ]
  },
  {
   "cell_type": "code",
   "execution_count": null,
   "metadata": {},
   "outputs": [],
   "source": [
    "//*[@id=\"content_container_70299\"]/p[5]/a"
   ]
  },
  {
   "cell_type": "code",
   "execution_count": null,
   "metadata": {},
   "outputs": [],
   "source": [
    "browser.find_by_xpath('//*[@id=\"content_container_70299\"]/p[5]/a').click()"
   ]
  },
  {
   "cell_type": "code",
   "execution_count": null,
   "metadata": {},
   "outputs": [],
   "source": [
    "browser.links.find_(\"Hooded Plover\").click()"
   ]
  },
  {
   "cell_type": "code",
   "execution_count": null,
   "metadata": {},
   "outputs": [],
   "source": [
    "html = browser.html\n",
    "soup = bs(html, 'lxml')"
   ]
  },
  {
   "cell_type": "code",
   "execution_count": null,
   "metadata": {},
   "outputs": [],
   "source": [
    "all_species_scraped = []\n",
    "\n",
    "for text in text_to_search:\n",
    "    \n",
    "    # Click each of the links to the threatened species in order to find the image url to the full resolution image.\n",
    "    browser.links.find_by_partial_text(text).click()\n",
    "    sleep(1)\n",
    "    html = browser.html\n",
    "    soup = bs(html, 'lxml')\n",
    "    \n",
    "    each_specie = {}\n",
    "    \n",
    "    # Retrieve the Hemisphere title containing the hemisphere name\n",
    "    each_specie[\"name\"] = text.lower()\n",
    "    each_specie[\"overview\"] = \n",
    "    \n",
    "    # Retrieve the image url string for the full resolution hemisphere image\n",
    "    img_url = soup.select_one(\"li a\")[\"href\"]\n",
    "    \n",
    "    # Append the dictionary with the image url string and the hemisphere title to a list\n",
    "    hemisphere_image_urls.append({\n",
    "        \"title\": title,\n",
    "        \"img_url\": img_url\n",
    "    })\n",
    "    \n",
    "    browser.back() \n",
    "    sleep(1)"
   ]
  },
  {
   "cell_type": "code",
   "execution_count": null,
   "metadata": {},
   "outputs": [],
   "source": []
  },
  {
   "cell_type": "code",
   "execution_count": null,
   "metadata": {},
   "outputs": [],
   "source": []
  },
  {
   "cell_type": "code",
   "execution_count": null,
   "metadata": {},
   "outputs": [],
   "source": []
  }
 ],
 "metadata": {
  "kernelspec": {
   "display_name": "Python [conda env:PythonData] *",
   "language": "python",
   "name": "conda-env-PythonData-py"
  },
  "language_info": {
   "codemirror_mode": {
    "name": "ipython",
    "version": 3
   },
   "file_extension": ".py",
   "mimetype": "text/x-python",
   "name": "python",
   "nbconvert_exporter": "python",
   "pygments_lexer": "ipython3",
   "version": "3.7.6"
  },
  "toc": {
   "base_numbering": 1,
   "nav_menu": {},
   "number_sections": true,
   "sideBar": true,
   "skip_h1_title": false,
   "title_cell": "Table of Contents",
   "title_sidebar": "Contents",
   "toc_cell": false,
   "toc_position": {},
   "toc_section_display": true,
   "toc_window_display": false
  },
  "varInspector": {
   "cols": {
    "lenName": 16,
    "lenType": 16,
    "lenVar": 40
   },
   "kernels_config": {
    "python": {
     "delete_cmd_postfix": "",
     "delete_cmd_prefix": "del ",
     "library": "var_list.py",
     "varRefreshCmd": "print(var_dic_list())"
    },
    "r": {
     "delete_cmd_postfix": ") ",
     "delete_cmd_prefix": "rm(",
     "library": "var_list.r",
     "varRefreshCmd": "cat(var_dic_list()) "
    }
   },
   "types_to_exclude": [
    "module",
    "function",
    "builtin_function_or_method",
    "instance",
    "_Feature"
   ],
   "window_display": false
  }
 },
 "nbformat": 4,
 "nbformat_minor": 4
}
