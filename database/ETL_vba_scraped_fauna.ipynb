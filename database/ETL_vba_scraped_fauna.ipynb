{
 "cells": [
  {
   "cell_type": "code",
   "execution_count": 1,
   "metadata": {},
   "outputs": [],
   "source": [
    "# Import dependencies\n",
    "import pandas as pd\n",
    "import numpy as np\n",
    "import matplotlib.pyplot as plt\n",
    "import pymongo"
   ]
  },
  {
   "cell_type": "markdown",
   "metadata": {},
   "source": [
    "## Extract Victorian Biodiversity Atlas (VBA) fauna data"
   ]
  },
  {
   "cell_type": "code",
   "execution_count": 2,
   "metadata": {},
   "outputs": [
    {
     "data": {
      "text/plain": [
       "Index(['RECORD_ID', 'SITE_ID', 'SURVEY_ID', 'PROJECT_ID', 'TAXON_ID',\n",
       "       'SCI_NAME', 'COMM_NAME', 'RECORDTYPE', 'RELIABILTY', 'TOTALCOUNT',\n",
       "       'STARTDATE', 'START_YEAR', 'START_MTH', 'ENDDATE', 'END_YEAR',\n",
       "       'END_MTH', 'LOCN_DESC', 'TAXON_TYPE', 'LONG_DD94', 'LAT_DD94'],\n",
       "      dtype='object')"
      ]
     },
     "execution_count": 2,
     "metadata": {},
     "output_type": "execute_result"
    }
   ],
   "source": [
    "# Read just the column names in fauna data csv\n",
    "col_names = pd.read_csv(\"../data/VBA_2015_2020.csv\", nrows = 0).columns\n",
    "col_names"
   ]
  },
  {
   "cell_type": "code",
   "execution_count": 3,
   "metadata": {},
   "outputs": [],
   "source": [
    "# Set data types for columns with data types other than strings\n",
    "dtypes_dict = {\n",
    "    \"TOTALCOUNT\": int,\n",
    "    \"START_YEAR\": int,\n",
    "    \"START_MTH\": int,\n",
    "    \"END_YEAR\": int,\n",
    "    \"END_MTH\": int,\n",
    "    \"LONG_DD94\": float,\n",
    "    \"LAT_DD94\": float\n",
    "}"
   ]
  },
  {
   "cell_type": "code",
   "execution_count": 4,
   "metadata": {},
   "outputs": [
    {
     "data": {
      "text/html": [
       "<div>\n",
       "<style scoped>\n",
       "    .dataframe tbody tr th:only-of-type {\n",
       "        vertical-align: middle;\n",
       "    }\n",
       "\n",
       "    .dataframe tbody tr th {\n",
       "        vertical-align: top;\n",
       "    }\n",
       "\n",
       "    .dataframe thead th {\n",
       "        text-align: right;\n",
       "    }\n",
       "</style>\n",
       "<table border=\"1\" class=\"dataframe\">\n",
       "  <thead>\n",
       "    <tr style=\"text-align: right;\">\n",
       "      <th></th>\n",
       "      <th>RECORD_ID</th>\n",
       "      <th>SITE_ID</th>\n",
       "      <th>SURVEY_ID</th>\n",
       "      <th>PROJECT_ID</th>\n",
       "      <th>TAXON_ID</th>\n",
       "      <th>SCI_NAME</th>\n",
       "      <th>COMM_NAME</th>\n",
       "      <th>RECORDTYPE</th>\n",
       "      <th>RELIABILTY</th>\n",
       "      <th>TOTALCOUNT</th>\n",
       "      <th>STARTDATE</th>\n",
       "      <th>START_YEAR</th>\n",
       "      <th>START_MTH</th>\n",
       "      <th>ENDDATE</th>\n",
       "      <th>END_YEAR</th>\n",
       "      <th>END_MTH</th>\n",
       "      <th>LOCN_DESC</th>\n",
       "      <th>TAXON_TYPE</th>\n",
       "      <th>LONG_DD94</th>\n",
       "      <th>LAT_DD94</th>\n",
       "    </tr>\n",
       "  </thead>\n",
       "  <tbody>\n",
       "    <tr>\n",
       "      <th>0</th>\n",
       "      <td>8597419</td>\n",
       "      <td>947931</td>\n",
       "      <td>1405903</td>\n",
       "      <td>4377</td>\n",
       "      <td>1557</td>\n",
       "      <td>Paratya australiensis</td>\n",
       "      <td>Common Freshwater Shrimp</td>\n",
       "      <td>Observation</td>\n",
       "      <td>Confirmed</td>\n",
       "      <td>0</td>\n",
       "      <td>2016-12-16</td>\n",
       "      <td>2016</td>\n",
       "      <td>12</td>\n",
       "      <td>NaT</td>\n",
       "      <td>0</td>\n",
       "      <td>0</td>\n",
       "      <td>McCallum Creek-4_7-TR-16-333</td>\n",
       "      <td>Mussels, decopod crustacea</td>\n",
       "      <td>143.649002</td>\n",
       "      <td>-37.283901</td>\n",
       "    </tr>\n",
       "    <tr>\n",
       "      <th>1</th>\n",
       "      <td>9067844</td>\n",
       "      <td>1084677</td>\n",
       "      <td>1776514</td>\n",
       "      <td>5326</td>\n",
       "      <td>10408</td>\n",
       "      <td>Colluricincla harmonica</td>\n",
       "      <td>Grey Shrike-thrush</td>\n",
       "      <td>Observation with supporting evidence</td>\n",
       "      <td>Acceptable</td>\n",
       "      <td>0</td>\n",
       "      <td>2018-08-28</td>\n",
       "      <td>2018</td>\n",
       "      <td>8</td>\n",
       "      <td>2018-09-25</td>\n",
       "      <td>2018</td>\n",
       "      <td>9</td>\n",
       "      <td>345-513-0003 FSQ1</td>\n",
       "      <td>Passerine birds</td>\n",
       "      <td>145.768997</td>\n",
       "      <td>-37.782501</td>\n",
       "    </tr>\n",
       "    <tr>\n",
       "      <th>2</th>\n",
       "      <td>8218590</td>\n",
       "      <td>771970</td>\n",
       "      <td>1221401</td>\n",
       "      <td>4366</td>\n",
       "      <td>10991</td>\n",
       "      <td>Turdus merula</td>\n",
       "      <td>Common Blackbird</td>\n",
       "      <td>Seen</td>\n",
       "      <td>Acceptable</td>\n",
       "      <td>0</td>\n",
       "      <td>2015-04-12</td>\n",
       "      <td>2015</td>\n",
       "      <td>4</td>\n",
       "      <td>NaT</td>\n",
       "      <td>0</td>\n",
       "      <td>0</td>\n",
       "      <td>Ocean Acres Bush Park Nature Reserve</td>\n",
       "      <td>Passerine birds</td>\n",
       "      <td>144.287399</td>\n",
       "      <td>-38.315601</td>\n",
       "    </tr>\n",
       "    <tr>\n",
       "      <th>3</th>\n",
       "      <td>9047388</td>\n",
       "      <td>1070861</td>\n",
       "      <td>1760792</td>\n",
       "      <td>5326</td>\n",
       "      <td>11242</td>\n",
       "      <td>Wallabia bicolor</td>\n",
       "      <td>Black-tailed Wallaby</td>\n",
       "      <td>Observation with supporting evidence</td>\n",
       "      <td>Acceptable</td>\n",
       "      <td>0</td>\n",
       "      <td>2018-11-14</td>\n",
       "      <td>2018</td>\n",
       "      <td>11</td>\n",
       "      <td>2018-12-14</td>\n",
       "      <td>2018</td>\n",
       "      <td>12</td>\n",
       "      <td>833-518-0004 BUQ1</td>\n",
       "      <td>Mammals</td>\n",
       "      <td>148.848099</td>\n",
       "      <td>-37.601601</td>\n",
       "    </tr>\n",
       "    <tr>\n",
       "      <th>4</th>\n",
       "      <td>9359539</td>\n",
       "      <td>1116727</td>\n",
       "      <td>1809370</td>\n",
       "      <td>5543</td>\n",
       "      <td>10525</td>\n",
       "      <td>Cisticola exilis</td>\n",
       "      <td>Golden-headed Cisticola</td>\n",
       "      <td>Seen</td>\n",
       "      <td>Acceptable</td>\n",
       "      <td>1</td>\n",
       "      <td>2015-05-07</td>\n",
       "      <td>2015</td>\n",
       "      <td>5</td>\n",
       "      <td>2015-05-07</td>\n",
       "      <td>2015</td>\n",
       "      <td>5</td>\n",
       "      <td>MANNIBADAR (581481)</td>\n",
       "      <td>Passerine birds</td>\n",
       "      <td>143.481903</td>\n",
       "      <td>-37.781799</td>\n",
       "    </tr>\n",
       "  </tbody>\n",
       "</table>\n",
       "</div>"
      ],
      "text/plain": [
       "  RECORD_ID  SITE_ID SURVEY_ID PROJECT_ID TAXON_ID                 SCI_NAME  \\\n",
       "0   8597419   947931   1405903       4377     1557    Paratya australiensis   \n",
       "1   9067844  1084677   1776514       5326    10408  Colluricincla harmonica   \n",
       "2   8218590   771970   1221401       4366    10991            Turdus merula   \n",
       "3   9047388  1070861   1760792       5326    11242         Wallabia bicolor   \n",
       "4   9359539  1116727   1809370       5543    10525         Cisticola exilis   \n",
       "\n",
       "                  COMM_NAME                            RECORDTYPE  RELIABILTY  \\\n",
       "0  Common Freshwater Shrimp                           Observation   Confirmed   \n",
       "1        Grey Shrike-thrush  Observation with supporting evidence  Acceptable   \n",
       "2          Common Blackbird                                  Seen  Acceptable   \n",
       "3      Black-tailed Wallaby  Observation with supporting evidence  Acceptable   \n",
       "4   Golden-headed Cisticola                                  Seen  Acceptable   \n",
       "\n",
       "   TOTALCOUNT  STARTDATE  START_YEAR  START_MTH    ENDDATE  END_YEAR  END_MTH  \\\n",
       "0           0 2016-12-16        2016         12        NaT         0        0   \n",
       "1           0 2018-08-28        2018          8 2018-09-25      2018        9   \n",
       "2           0 2015-04-12        2015          4        NaT         0        0   \n",
       "3           0 2018-11-14        2018         11 2018-12-14      2018       12   \n",
       "4           1 2015-05-07        2015          5 2015-05-07      2015        5   \n",
       "\n",
       "                              LOCN_DESC                  TAXON_TYPE  \\\n",
       "0          McCallum Creek-4_7-TR-16-333  Mussels, decopod crustacea   \n",
       "1                     345-513-0003 FSQ1             Passerine birds   \n",
       "2  Ocean Acres Bush Park Nature Reserve             Passerine birds   \n",
       "3                     833-518-0004 BUQ1                     Mammals   \n",
       "4                   MANNIBADAR (581481)             Passerine birds   \n",
       "\n",
       "    LONG_DD94   LAT_DD94  \n",
       "0  143.649002 -37.283901  \n",
       "1  145.768997 -37.782501  \n",
       "2  144.287399 -38.315601  \n",
       "3  148.848099 -37.601601  \n",
       "4  143.481903 -37.781799  "
      ]
     },
     "execution_count": 4,
     "metadata": {},
     "output_type": "execute_result"
    }
   ],
   "source": [
    "# Read in vic fauna csv from 2015 to 2020\n",
    "fauna_data = pd.read_csv(\n",
    "    \"../data/VBA_2015_2020.csv\",\n",
    "    parse_dates = [\"STARTDATE\", \"ENDDATE\"],\n",
    "    dtype = {col: str for col in col_names if col not in dtypes_dict})\n",
    "fauna_data.head()"
   ]
  },
  {
   "cell_type": "markdown",
   "metadata": {},
   "source": [
    "## Transform VBA fauna data"
   ]
  },
  {
   "cell_type": "code",
   "execution_count": 5,
   "metadata": {},
   "outputs": [],
   "source": [
    "# Column Renaming\n",
    "fauna_df = fauna_data.rename(columns={\n",
    "    \"RECORD_ID\": \"record_id\",\n",
    "    \"SITE_ID\": \"site_id\",\n",
    "    \"SURVEY_ID\": \"survey_id\",\n",
    "    \"PROJECT_ID\": \"project_id\",\n",
    "    \"TAXON_ID\": \"taxon_id\",\n",
    "    \"SCI_NAME\": \"sci_name\",\n",
    "    \"COMM_NAME\": \"comm_name\",\n",
    "    \"RECORDTYPE\": \"recordtype\",\n",
    "    \"RELIABILTY\": \"reliability\",\n",
    "    \"TOTALCOUNT\": \"totalcount\",\n",
    "    \"STARTDATE\": \"start_date\",\n",
    "    \"START_YEAR\": \"start_year\",\n",
    "    \"START_MTH\": \"start_mth\",\n",
    "    \"ENDDATE\": \"end_date\",\n",
    "    \"END_YEAR\": \"end_year\",\n",
    "    \"END_MTH\": \"end_mth\",\n",
    "    \"LOCN_DESC\": \"location_desc\",\n",
    "    \"TAXON_TYPE\": \"taxon_type\",\n",
    "    \"LONG_DD94\": \"long\",\n",
    "    \"LAT_DD94\": \"lat\"})"
   ]
  },
  {
   "cell_type": "code",
   "execution_count": 6,
   "metadata": {},
   "outputs": [
    {
     "data": {
      "text/plain": [
       "True"
      ]
     },
     "execution_count": 6,
     "metadata": {},
     "output_type": "execute_result"
    }
   ],
   "source": [
    "# Test record_id uniqueness\n",
    "fauna_df.record_id.is_unique"
   ]
  },
  {
   "cell_type": "code",
   "execution_count": 7,
   "metadata": {},
   "outputs": [
    {
     "name": "stdout",
     "output_type": "stream",
     "text": [
      "Number of unique record ids: 346829\n"
     ]
    }
   ],
   "source": [
    "print(f\"Number of unique record ids: {fauna_df.record_id.nunique()}\")"
   ]
  },
  {
   "cell_type": "code",
   "execution_count": 8,
   "metadata": {},
   "outputs": [
    {
     "data": {
      "text/plain": [
       "False"
      ]
     },
     "execution_count": 8,
     "metadata": {},
     "output_type": "execute_result"
    }
   ],
   "source": [
    "# Test survey_id uniqueness\n",
    "fauna_df.survey_id.is_unique"
   ]
  },
  {
   "cell_type": "code",
   "execution_count": 9,
   "metadata": {},
   "outputs": [
    {
     "name": "stdout",
     "output_type": "stream",
     "text": [
      "Number of unique survey ids: 97240\n"
     ]
    }
   ],
   "source": [
    "print(f\"Number of unique survey ids: {fauna_df.survey_id.nunique()}\")"
   ]
  },
  {
   "cell_type": "code",
   "execution_count": 10,
   "metadata": {},
   "outputs": [
    {
     "data": {
      "text/plain": [
       "False"
      ]
     },
     "execution_count": 10,
     "metadata": {},
     "output_type": "execute_result"
    }
   ],
   "source": [
    "# Test site_id uniqueness\n",
    "fauna_df.site_id.is_unique"
   ]
  },
  {
   "cell_type": "code",
   "execution_count": 11,
   "metadata": {},
   "outputs": [
    {
     "name": "stdout",
     "output_type": "stream",
     "text": [
      "Number of unique site ids: 55164\n"
     ]
    }
   ],
   "source": [
    "print(f\"Number of unique site ids: {fauna_df.site_id.nunique()}\")"
   ]
  },
  {
   "cell_type": "code",
   "execution_count": 12,
   "metadata": {},
   "outputs": [
    {
     "data": {
      "text/plain": [
       "False"
      ]
     },
     "execution_count": 12,
     "metadata": {},
     "output_type": "execute_result"
    }
   ],
   "source": [
    "# Test project_id uniqueness\n",
    "fauna_df.project_id.is_unique"
   ]
  },
  {
   "cell_type": "code",
   "execution_count": 13,
   "metadata": {},
   "outputs": [
    {
     "name": "stdout",
     "output_type": "stream",
     "text": [
      "Number of unique project ids: 522\n"
     ]
    }
   ],
   "source": [
    "print(f\"Number of unique project ids: {fauna_df.project_id.nunique()}\")"
   ]
  },
  {
   "cell_type": "code",
   "execution_count": 14,
   "metadata": {},
   "outputs": [
    {
     "data": {
      "text/plain": [
       "False"
      ]
     },
     "execution_count": 14,
     "metadata": {},
     "output_type": "execute_result"
    }
   ],
   "source": [
    "# Test taxon_id uniqueness\n",
    "fauna_df.taxon_id.is_unique"
   ]
  },
  {
   "cell_type": "code",
   "execution_count": 15,
   "metadata": {},
   "outputs": [
    {
     "name": "stdout",
     "output_type": "stream",
     "text": [
      "Number of unique taxon ids: 941\n"
     ]
    }
   ],
   "source": [
    "print(f\"Number of unique taxon ids: {fauna_df.taxon_id.nunique()}\")"
   ]
  },
  {
   "cell_type": "code",
   "execution_count": 16,
   "metadata": {},
   "outputs": [
    {
     "name": "stdout",
     "output_type": "stream",
     "text": [
      "Number of unique taxon types: 14\n"
     ]
    }
   ],
   "source": [
    "print(f\"Number of unique taxon types: {fauna_df.taxon_type.nunique()}\")"
   ]
  },
  {
   "cell_type": "code",
   "execution_count": 17,
   "metadata": {},
   "outputs": [
    {
     "data": {
      "text/html": [
       "<div>\n",
       "<style scoped>\n",
       "    .dataframe tbody tr th:only-of-type {\n",
       "        vertical-align: middle;\n",
       "    }\n",
       "\n",
       "    .dataframe tbody tr th {\n",
       "        vertical-align: top;\n",
       "    }\n",
       "\n",
       "    .dataframe thead th {\n",
       "        text-align: right;\n",
       "    }\n",
       "</style>\n",
       "<table border=\"1\" class=\"dataframe\">\n",
       "  <thead>\n",
       "    <tr style=\"text-align: right;\">\n",
       "      <th></th>\n",
       "      <th>record_id</th>\n",
       "      <th>survey_id</th>\n",
       "      <th>site_id</th>\n",
       "      <th>project_id</th>\n",
       "      <th>taxon_id</th>\n",
       "      <th>taxon_type</th>\n",
       "      <th>comm_name</th>\n",
       "      <th>sci_name</th>\n",
       "      <th>totalcount</th>\n",
       "      <th>location_desc</th>\n",
       "      <th>long</th>\n",
       "      <th>lat</th>\n",
       "      <th>end_year</th>\n",
       "      <th>end_mth</th>\n",
       "      <th>end_date</th>\n",
       "      <th>start_year</th>\n",
       "      <th>start_mth</th>\n",
       "      <th>start_date</th>\n",
       "      <th>recordtype</th>\n",
       "      <th>reliability</th>\n",
       "    </tr>\n",
       "  </thead>\n",
       "  <tbody>\n",
       "    <tr>\n",
       "      <th>0</th>\n",
       "      <td>8597419</td>\n",
       "      <td>1405903</td>\n",
       "      <td>947931</td>\n",
       "      <td>4377</td>\n",
       "      <td>1557</td>\n",
       "      <td>Mussels, decopod crustacea</td>\n",
       "      <td>Common Freshwater Shrimp</td>\n",
       "      <td>Paratya australiensis</td>\n",
       "      <td>0</td>\n",
       "      <td>McCallum Creek-4_7-TR-16-333</td>\n",
       "      <td>143.649002</td>\n",
       "      <td>-37.283901</td>\n",
       "      <td>0</td>\n",
       "      <td>0</td>\n",
       "      <td>NaT</td>\n",
       "      <td>2016</td>\n",
       "      <td>12</td>\n",
       "      <td>2016-12-16</td>\n",
       "      <td>Observation</td>\n",
       "      <td>Confirmed</td>\n",
       "    </tr>\n",
       "    <tr>\n",
       "      <th>1</th>\n",
       "      <td>9067844</td>\n",
       "      <td>1776514</td>\n",
       "      <td>1084677</td>\n",
       "      <td>5326</td>\n",
       "      <td>10408</td>\n",
       "      <td>Passerine birds</td>\n",
       "      <td>Grey Shrike-thrush</td>\n",
       "      <td>Colluricincla harmonica</td>\n",
       "      <td>0</td>\n",
       "      <td>345-513-0003 FSQ1</td>\n",
       "      <td>145.768997</td>\n",
       "      <td>-37.782501</td>\n",
       "      <td>2018</td>\n",
       "      <td>9</td>\n",
       "      <td>2018-09-25</td>\n",
       "      <td>2018</td>\n",
       "      <td>8</td>\n",
       "      <td>2018-08-28</td>\n",
       "      <td>Observation with supporting evidence</td>\n",
       "      <td>Acceptable</td>\n",
       "    </tr>\n",
       "    <tr>\n",
       "      <th>2</th>\n",
       "      <td>8218590</td>\n",
       "      <td>1221401</td>\n",
       "      <td>771970</td>\n",
       "      <td>4366</td>\n",
       "      <td>10991</td>\n",
       "      <td>Passerine birds</td>\n",
       "      <td>Common Blackbird</td>\n",
       "      <td>Turdus merula</td>\n",
       "      <td>0</td>\n",
       "      <td>Ocean Acres Bush Park Nature Reserve</td>\n",
       "      <td>144.287399</td>\n",
       "      <td>-38.315601</td>\n",
       "      <td>0</td>\n",
       "      <td>0</td>\n",
       "      <td>NaT</td>\n",
       "      <td>2015</td>\n",
       "      <td>4</td>\n",
       "      <td>2015-04-12</td>\n",
       "      <td>Seen</td>\n",
       "      <td>Acceptable</td>\n",
       "    </tr>\n",
       "    <tr>\n",
       "      <th>3</th>\n",
       "      <td>9047388</td>\n",
       "      <td>1760792</td>\n",
       "      <td>1070861</td>\n",
       "      <td>5326</td>\n",
       "      <td>11242</td>\n",
       "      <td>Mammals</td>\n",
       "      <td>Black-tailed Wallaby</td>\n",
       "      <td>Wallabia bicolor</td>\n",
       "      <td>0</td>\n",
       "      <td>833-518-0004 BUQ1</td>\n",
       "      <td>148.848099</td>\n",
       "      <td>-37.601601</td>\n",
       "      <td>2018</td>\n",
       "      <td>12</td>\n",
       "      <td>2018-12-14</td>\n",
       "      <td>2018</td>\n",
       "      <td>11</td>\n",
       "      <td>2018-11-14</td>\n",
       "      <td>Observation with supporting evidence</td>\n",
       "      <td>Acceptable</td>\n",
       "    </tr>\n",
       "    <tr>\n",
       "      <th>4</th>\n",
       "      <td>9359539</td>\n",
       "      <td>1809370</td>\n",
       "      <td>1116727</td>\n",
       "      <td>5543</td>\n",
       "      <td>10525</td>\n",
       "      <td>Passerine birds</td>\n",
       "      <td>Golden-headed Cisticola</td>\n",
       "      <td>Cisticola exilis</td>\n",
       "      <td>1</td>\n",
       "      <td>MANNIBADAR (581481)</td>\n",
       "      <td>143.481903</td>\n",
       "      <td>-37.781799</td>\n",
       "      <td>2015</td>\n",
       "      <td>5</td>\n",
       "      <td>2015-05-07</td>\n",
       "      <td>2015</td>\n",
       "      <td>5</td>\n",
       "      <td>2015-05-07</td>\n",
       "      <td>Seen</td>\n",
       "      <td>Acceptable</td>\n",
       "    </tr>\n",
       "  </tbody>\n",
       "</table>\n",
       "</div>"
      ],
      "text/plain": [
       "  record_id survey_id  site_id project_id taxon_id  \\\n",
       "0   8597419   1405903   947931       4377     1557   \n",
       "1   9067844   1776514  1084677       5326    10408   \n",
       "2   8218590   1221401   771970       4366    10991   \n",
       "3   9047388   1760792  1070861       5326    11242   \n",
       "4   9359539   1809370  1116727       5543    10525   \n",
       "\n",
       "                   taxon_type                 comm_name  \\\n",
       "0  Mussels, decopod crustacea  Common Freshwater Shrimp   \n",
       "1             Passerine birds        Grey Shrike-thrush   \n",
       "2             Passerine birds          Common Blackbird   \n",
       "3                     Mammals      Black-tailed Wallaby   \n",
       "4             Passerine birds   Golden-headed Cisticola   \n",
       "\n",
       "                  sci_name  totalcount                         location_desc  \\\n",
       "0    Paratya australiensis           0          McCallum Creek-4_7-TR-16-333   \n",
       "1  Colluricincla harmonica           0                     345-513-0003 FSQ1   \n",
       "2            Turdus merula           0  Ocean Acres Bush Park Nature Reserve   \n",
       "3         Wallabia bicolor           0                     833-518-0004 BUQ1   \n",
       "4         Cisticola exilis           1                   MANNIBADAR (581481)   \n",
       "\n",
       "         long        lat  end_year  end_mth   end_date  start_year  start_mth  \\\n",
       "0  143.649002 -37.283901         0        0        NaT        2016         12   \n",
       "1  145.768997 -37.782501      2018        9 2018-09-25        2018          8   \n",
       "2  144.287399 -38.315601         0        0        NaT        2015          4   \n",
       "3  148.848099 -37.601601      2018       12 2018-12-14        2018         11   \n",
       "4  143.481903 -37.781799      2015        5 2015-05-07        2015          5   \n",
       "\n",
       "  start_date                            recordtype reliability  \n",
       "0 2016-12-16                           Observation   Confirmed  \n",
       "1 2018-08-28  Observation with supporting evidence  Acceptable  \n",
       "2 2015-04-12                                  Seen  Acceptable  \n",
       "3 2018-11-14  Observation with supporting evidence  Acceptable  \n",
       "4 2015-05-07                                  Seen  Acceptable  "
      ]
     },
     "execution_count": 17,
     "metadata": {},
     "output_type": "execute_result"
    }
   ],
   "source": [
    "# Reorder the columns\n",
    "fauna_df = fauna_df[[\"record_id\", \"survey_id\", \"site_id\", \"project_id\", \"taxon_id\", \"taxon_type\"\n",
    "                     ,\"comm_name\", \"sci_name\", \"totalcount\", \"location_desc\", \"long\", \"lat\"\n",
    "                     ,\"end_year\", \"end_mth\", \"end_date\", \"start_year\", \"start_mth\", \"start_date\"\n",
    "                     ,\"recordtype\", \"reliability\"]]\n",
    "fauna_df.head()"
   ]
  },
  {
   "cell_type": "code",
   "execution_count": 18,
   "metadata": {},
   "outputs": [
    {
     "name": "stdout",
     "output_type": "stream",
     "text": [
      "<class 'pandas.core.frame.DataFrame'>\n",
      "RangeIndex: 346829 entries, 0 to 346828\n",
      "Data columns (total 20 columns):\n",
      " #   Column         Non-Null Count   Dtype         \n",
      "---  ------         --------------   -----         \n",
      " 0   record_id      346829 non-null  object        \n",
      " 1   survey_id      346829 non-null  object        \n",
      " 2   site_id        346829 non-null  object        \n",
      " 3   project_id     346829 non-null  object        \n",
      " 4   taxon_id       346829 non-null  object        \n",
      " 5   taxon_type     346829 non-null  object        \n",
      " 6   comm_name      346829 non-null  object        \n",
      " 7   sci_name       346829 non-null  object        \n",
      " 8   totalcount     346829 non-null  int64         \n",
      " 9   location_desc  346829 non-null  object        \n",
      " 10  long           346829 non-null  float64       \n",
      " 11  lat            346829 non-null  float64       \n",
      " 12  end_year       346829 non-null  int64         \n",
      " 13  end_mth        346829 non-null  int64         \n",
      " 14  end_date       52465 non-null   datetime64[ns]\n",
      " 15  start_year     346829 non-null  int64         \n",
      " 16  start_mth      346829 non-null  int64         \n",
      " 17  start_date     346829 non-null  datetime64[ns]\n",
      " 18  recordtype     346829 non-null  object        \n",
      " 19  reliability    346829 non-null  object        \n",
      "dtypes: datetime64[ns](2), float64(2), int64(5), object(11)\n",
      "memory usage: 52.9+ MB\n"
     ]
    }
   ],
   "source": [
    "# Overview of the fauna data\n",
    "fauna_df.info()"
   ]
  },
  {
   "cell_type": "code",
   "execution_count": 19,
   "metadata": {},
   "outputs": [
    {
     "data": {
      "text/html": [
       "<div>\n",
       "<style scoped>\n",
       "    .dataframe tbody tr th:only-of-type {\n",
       "        vertical-align: middle;\n",
       "    }\n",
       "\n",
       "    .dataframe tbody tr th {\n",
       "        vertical-align: top;\n",
       "    }\n",
       "\n",
       "    .dataframe thead th {\n",
       "        text-align: right;\n",
       "    }\n",
       "</style>\n",
       "<table border=\"1\" class=\"dataframe\">\n",
       "  <thead>\n",
       "    <tr style=\"text-align: right;\">\n",
       "      <th></th>\n",
       "      <th>record_id</th>\n",
       "      <th>survey_id</th>\n",
       "      <th>site_id</th>\n",
       "      <th>project_id</th>\n",
       "      <th>taxon_id</th>\n",
       "      <th>taxon_type</th>\n",
       "      <th>comm_name</th>\n",
       "      <th>sci_name</th>\n",
       "      <th>totalcount</th>\n",
       "      <th>location_desc</th>\n",
       "      <th>long</th>\n",
       "      <th>lat</th>\n",
       "      <th>end_year</th>\n",
       "      <th>end_mth</th>\n",
       "      <th>end_date</th>\n",
       "      <th>start_year</th>\n",
       "      <th>start_mth</th>\n",
       "      <th>start_date</th>\n",
       "      <th>recordtype</th>\n",
       "      <th>reliability</th>\n",
       "    </tr>\n",
       "  </thead>\n",
       "  <tbody>\n",
       "    <tr>\n",
       "      <th>0</th>\n",
       "      <td>8597419</td>\n",
       "      <td>1405903</td>\n",
       "      <td>947931</td>\n",
       "      <td>4377</td>\n",
       "      <td>1557</td>\n",
       "      <td>Mussels, decopod crustacea</td>\n",
       "      <td>Common Freshwater Shrimp</td>\n",
       "      <td>Paratya australiensis</td>\n",
       "      <td>0</td>\n",
       "      <td>McCallum Creek-4_7-TR-16-333</td>\n",
       "      <td>143.649002</td>\n",
       "      <td>-37.283901</td>\n",
       "      <td>0</td>\n",
       "      <td>0</td>\n",
       "      <td>NaT</td>\n",
       "      <td>2016</td>\n",
       "      <td>12</td>\n",
       "      <td>2016-12-16</td>\n",
       "      <td>Observation</td>\n",
       "      <td>Confirmed</td>\n",
       "    </tr>\n",
       "    <tr>\n",
       "      <th>1</th>\n",
       "      <td>9067844</td>\n",
       "      <td>1776514</td>\n",
       "      <td>1084677</td>\n",
       "      <td>5326</td>\n",
       "      <td>10408</td>\n",
       "      <td>Passerine birds</td>\n",
       "      <td>Grey Shrike-thrush</td>\n",
       "      <td>Colluricincla harmonica</td>\n",
       "      <td>0</td>\n",
       "      <td>345-513-0003 FSQ1</td>\n",
       "      <td>145.768997</td>\n",
       "      <td>-37.782501</td>\n",
       "      <td>2018</td>\n",
       "      <td>9</td>\n",
       "      <td>2018-09-25</td>\n",
       "      <td>2018</td>\n",
       "      <td>8</td>\n",
       "      <td>2018-08-28</td>\n",
       "      <td>Observation with supporting evidence</td>\n",
       "      <td>Acceptable</td>\n",
       "    </tr>\n",
       "    <tr>\n",
       "      <th>2</th>\n",
       "      <td>8218590</td>\n",
       "      <td>1221401</td>\n",
       "      <td>771970</td>\n",
       "      <td>4366</td>\n",
       "      <td>10991</td>\n",
       "      <td>Passerine birds</td>\n",
       "      <td>Common Blackbird</td>\n",
       "      <td>Turdus merula</td>\n",
       "      <td>0</td>\n",
       "      <td>Ocean Acres Bush Park Nature Reserve</td>\n",
       "      <td>144.287399</td>\n",
       "      <td>-38.315601</td>\n",
       "      <td>0</td>\n",
       "      <td>0</td>\n",
       "      <td>NaT</td>\n",
       "      <td>2015</td>\n",
       "      <td>4</td>\n",
       "      <td>2015-04-12</td>\n",
       "      <td>Seen</td>\n",
       "      <td>Acceptable</td>\n",
       "    </tr>\n",
       "    <tr>\n",
       "      <th>3</th>\n",
       "      <td>9047388</td>\n",
       "      <td>1760792</td>\n",
       "      <td>1070861</td>\n",
       "      <td>5326</td>\n",
       "      <td>11242</td>\n",
       "      <td>Mammals</td>\n",
       "      <td>Black-tailed Wallaby</td>\n",
       "      <td>Wallabia bicolor</td>\n",
       "      <td>0</td>\n",
       "      <td>833-518-0004 BUQ1</td>\n",
       "      <td>148.848099</td>\n",
       "      <td>-37.601601</td>\n",
       "      <td>2018</td>\n",
       "      <td>12</td>\n",
       "      <td>2018-12-14</td>\n",
       "      <td>2018</td>\n",
       "      <td>11</td>\n",
       "      <td>2018-11-14</td>\n",
       "      <td>Observation with supporting evidence</td>\n",
       "      <td>Acceptable</td>\n",
       "    </tr>\n",
       "    <tr>\n",
       "      <th>6</th>\n",
       "      <td>9067841</td>\n",
       "      <td>1776514</td>\n",
       "      <td>1084677</td>\n",
       "      <td>5326</td>\n",
       "      <td>10488</td>\n",
       "      <td>Passerine birds</td>\n",
       "      <td>White-browed Scrubwren</td>\n",
       "      <td>Sericornis frontalis</td>\n",
       "      <td>0</td>\n",
       "      <td>345-513-0003 FSQ1</td>\n",
       "      <td>145.768997</td>\n",
       "      <td>-37.782501</td>\n",
       "      <td>2018</td>\n",
       "      <td>9</td>\n",
       "      <td>2018-09-25</td>\n",
       "      <td>2018</td>\n",
       "      <td>8</td>\n",
       "      <td>2018-08-28</td>\n",
       "      <td>Observation with supporting evidence</td>\n",
       "      <td>Acceptable</td>\n",
       "    </tr>\n",
       "    <tr>\n",
       "      <th>9</th>\n",
       "      <td>8897604</td>\n",
       "      <td>1686135</td>\n",
       "      <td>1000965</td>\n",
       "      <td>4335</td>\n",
       "      <td>528552</td>\n",
       "      <td>Mammals</td>\n",
       "      <td>Red Fox</td>\n",
       "      <td>Vulpes vulpes</td>\n",
       "      <td>0</td>\n",
       "      <td>Basalt 10</td>\n",
       "      <td>144.098206</td>\n",
       "      <td>-37.270500</td>\n",
       "      <td>2018</td>\n",
       "      <td>2</td>\n",
       "      <td>2018-02-07</td>\n",
       "      <td>2018</td>\n",
       "      <td>1</td>\n",
       "      <td>2018-01-17</td>\n",
       "      <td>Observation with supporting evidence</td>\n",
       "      <td>Acceptable</td>\n",
       "    </tr>\n",
       "    <tr>\n",
       "      <th>10</th>\n",
       "      <td>9345216</td>\n",
       "      <td>1799930</td>\n",
       "      <td>1107289</td>\n",
       "      <td>2936</td>\n",
       "      <td>5140</td>\n",
       "      <td>Fish</td>\n",
       "      <td>Dry waterbody</td>\n",
       "      <td>Misc Dry</td>\n",
       "      <td>0</td>\n",
       "      <td>Pig and Whistle Creek-2_23-TR-18-421</td>\n",
       "      <td>147.853394</td>\n",
       "      <td>-37.532299</td>\n",
       "      <td>0</td>\n",
       "      <td>0</td>\n",
       "      <td>NaT</td>\n",
       "      <td>2018</td>\n",
       "      <td>11</td>\n",
       "      <td>2018-11-16</td>\n",
       "      <td>Observation</td>\n",
       "      <td>Confirmed</td>\n",
       "    </tr>\n",
       "    <tr>\n",
       "      <th>12</th>\n",
       "      <td>8432377</td>\n",
       "      <td>1292811</td>\n",
       "      <td>840246</td>\n",
       "      <td>4551</td>\n",
       "      <td>10364</td>\n",
       "      <td>Passerine birds</td>\n",
       "      <td>Willie Wagtail</td>\n",
       "      <td>Rhipidura leucophrys</td>\n",
       "      <td>0</td>\n",
       "      <td>Bulla Hill and School Hill</td>\n",
       "      <td>144.802200</td>\n",
       "      <td>-37.634102</td>\n",
       "      <td>0</td>\n",
       "      <td>0</td>\n",
       "      <td>NaT</td>\n",
       "      <td>2015</td>\n",
       "      <td>5</td>\n",
       "      <td>2015-05-18</td>\n",
       "      <td>Observation</td>\n",
       "      <td>Acceptable</td>\n",
       "    </tr>\n",
       "    <tr>\n",
       "      <th>13</th>\n",
       "      <td>8956790</td>\n",
       "      <td>1715391</td>\n",
       "      <td>1027944</td>\n",
       "      <td>4836</td>\n",
       "      <td>11003</td>\n",
       "      <td>Mammals</td>\n",
       "      <td>Short-beaked Echidna</td>\n",
       "      <td>Tachyglossus aculeatus</td>\n",
       "      <td>0</td>\n",
       "      <td>New Holland Mouse camera survey_Site_NHM423</td>\n",
       "      <td>147.533798</td>\n",
       "      <td>-38.084000</td>\n",
       "      <td>2018</td>\n",
       "      <td>3</td>\n",
       "      <td>2018-03-20</td>\n",
       "      <td>2018</td>\n",
       "      <td>3</td>\n",
       "      <td>2018-03-07</td>\n",
       "      <td>Observation with supporting evidence</td>\n",
       "      <td>Acceptable</td>\n",
       "    </tr>\n",
       "    <tr>\n",
       "      <th>15</th>\n",
       "      <td>8994856</td>\n",
       "      <td>1741637</td>\n",
       "      <td>1052493</td>\n",
       "      <td>5326</td>\n",
       "      <td>11115</td>\n",
       "      <td>Mammals</td>\n",
       "      <td>Mountain Brush-tailed Possum</td>\n",
       "      <td>Trichosurus cunninghami</td>\n",
       "      <td>0</td>\n",
       "      <td>298-516-0003</td>\n",
       "      <td>145.521393</td>\n",
       "      <td>-37.442902</td>\n",
       "      <td>2018</td>\n",
       "      <td>8</td>\n",
       "      <td>2018-08-23</td>\n",
       "      <td>2018</td>\n",
       "      <td>7</td>\n",
       "      <td>2018-07-27</td>\n",
       "      <td>Observation with supporting evidence</td>\n",
       "      <td>Acceptable</td>\n",
       "    </tr>\n",
       "  </tbody>\n",
       "</table>\n",
       "</div>"
      ],
      "text/plain": [
       "   record_id survey_id  site_id project_id taxon_id  \\\n",
       "0    8597419   1405903   947931       4377     1557   \n",
       "1    9067844   1776514  1084677       5326    10408   \n",
       "2    8218590   1221401   771970       4366    10991   \n",
       "3    9047388   1760792  1070861       5326    11242   \n",
       "6    9067841   1776514  1084677       5326    10488   \n",
       "9    8897604   1686135  1000965       4335   528552   \n",
       "10   9345216   1799930  1107289       2936     5140   \n",
       "12   8432377   1292811   840246       4551    10364   \n",
       "13   8956790   1715391  1027944       4836    11003   \n",
       "15   8994856   1741637  1052493       5326    11115   \n",
       "\n",
       "                    taxon_type                     comm_name  \\\n",
       "0   Mussels, decopod crustacea      Common Freshwater Shrimp   \n",
       "1              Passerine birds            Grey Shrike-thrush   \n",
       "2              Passerine birds              Common Blackbird   \n",
       "3                      Mammals          Black-tailed Wallaby   \n",
       "6              Passerine birds        White-browed Scrubwren   \n",
       "9                      Mammals                       Red Fox   \n",
       "10                        Fish                 Dry waterbody   \n",
       "12             Passerine birds                Willie Wagtail   \n",
       "13                     Mammals          Short-beaked Echidna   \n",
       "15                     Mammals  Mountain Brush-tailed Possum   \n",
       "\n",
       "                   sci_name  totalcount  \\\n",
       "0     Paratya australiensis           0   \n",
       "1   Colluricincla harmonica           0   \n",
       "2             Turdus merula           0   \n",
       "3          Wallabia bicolor           0   \n",
       "6      Sericornis frontalis           0   \n",
       "9             Vulpes vulpes           0   \n",
       "10                 Misc Dry           0   \n",
       "12     Rhipidura leucophrys           0   \n",
       "13   Tachyglossus aculeatus           0   \n",
       "15  Trichosurus cunninghami           0   \n",
       "\n",
       "                                  location_desc        long        lat  \\\n",
       "0                  McCallum Creek-4_7-TR-16-333  143.649002 -37.283901   \n",
       "1                             345-513-0003 FSQ1  145.768997 -37.782501   \n",
       "2          Ocean Acres Bush Park Nature Reserve  144.287399 -38.315601   \n",
       "3                             833-518-0004 BUQ1  148.848099 -37.601601   \n",
       "6                             345-513-0003 FSQ1  145.768997 -37.782501   \n",
       "9                                     Basalt 10  144.098206 -37.270500   \n",
       "10         Pig and Whistle Creek-2_23-TR-18-421  147.853394 -37.532299   \n",
       "12                   Bulla Hill and School Hill  144.802200 -37.634102   \n",
       "13  New Holland Mouse camera survey_Site_NHM423  147.533798 -38.084000   \n",
       "15                                 298-516-0003  145.521393 -37.442902   \n",
       "\n",
       "    end_year  end_mth   end_date  start_year  start_mth start_date  \\\n",
       "0          0        0        NaT        2016         12 2016-12-16   \n",
       "1       2018        9 2018-09-25        2018          8 2018-08-28   \n",
       "2          0        0        NaT        2015          4 2015-04-12   \n",
       "3       2018       12 2018-12-14        2018         11 2018-11-14   \n",
       "6       2018        9 2018-09-25        2018          8 2018-08-28   \n",
       "9       2018        2 2018-02-07        2018          1 2018-01-17   \n",
       "10         0        0        NaT        2018         11 2018-11-16   \n",
       "12         0        0        NaT        2015          5 2015-05-18   \n",
       "13      2018        3 2018-03-20        2018          3 2018-03-07   \n",
       "15      2018        8 2018-08-23        2018          7 2018-07-27   \n",
       "\n",
       "                              recordtype reliability  \n",
       "0                            Observation   Confirmed  \n",
       "1   Observation with supporting evidence  Acceptable  \n",
       "2                                   Seen  Acceptable  \n",
       "3   Observation with supporting evidence  Acceptable  \n",
       "6   Observation with supporting evidence  Acceptable  \n",
       "9   Observation with supporting evidence  Acceptable  \n",
       "10                           Observation   Confirmed  \n",
       "12                           Observation  Acceptable  \n",
       "13  Observation with supporting evidence  Acceptable  \n",
       "15  Observation with supporting evidence  Acceptable  "
      ]
     },
     "execution_count": 19,
     "metadata": {},
     "output_type": "execute_result"
    }
   ],
   "source": [
    "# We can see that the TOTALCOUNT of some records is 0. Let's have an overview of them\n",
    "zero_totalcount = fauna_df[fauna_df[\"totalcount\"] == 0]\n",
    "zero_totalcount.head(10)"
   ]
  },
  {
   "cell_type": "code",
   "execution_count": 20,
   "metadata": {},
   "outputs": [
    {
     "data": {
      "text/plain": [
       "19.936914156544002"
      ]
     },
     "execution_count": 20,
     "metadata": {},
     "output_type": "execute_result"
    }
   ],
   "source": [
    "# Percentage of number of rows with totalcount equal to 0 against total number of rows of the dataframe\n",
    "(zero_totalcount.shape[0]/fauna_df.shape[0])*100"
   ]
  },
  {
   "cell_type": "markdown",
   "metadata": {},
   "source": [
    "## Import the webscraped animal data to match with the VBA fauna data"
   ]
  },
  {
   "cell_type": "code",
   "execution_count": 21,
   "metadata": {},
   "outputs": [
    {
     "data": {
      "text/html": [
       "<div>\n",
       "<style scoped>\n",
       "    .dataframe tbody tr th:only-of-type {\n",
       "        vertical-align: middle;\n",
       "    }\n",
       "\n",
       "    .dataframe tbody tr th {\n",
       "        vertical-align: top;\n",
       "    }\n",
       "\n",
       "    .dataframe thead th {\n",
       "        text-align: right;\n",
       "    }\n",
       "</style>\n",
       "<table border=\"1\" class=\"dataframe\">\n",
       "  <thead>\n",
       "    <tr style=\"text-align: right;\">\n",
       "      <th></th>\n",
       "      <th>animal_name</th>\n",
       "      <th>image_url</th>\n",
       "      <th>image_alternative</th>\n",
       "      <th>introduction</th>\n",
       "      <th>threat_paragraph</th>\n",
       "    </tr>\n",
       "  </thead>\n",
       "  <tbody>\n",
       "    <tr>\n",
       "      <th>0</th>\n",
       "      <td>Alpine She-oak Skink</td>\n",
       "      <td>https://ZoosVic-Endpoint-Blob-Prod.azureedge.n...</td>\n",
       "      <td>Alpine She-oak Skink sunning it self on a rock...</td>\n",
       "      <td>Found in only a few locations in Victoria and ...</td>\n",
       "      <td>Major threats\\nFire is a huge danger to the Al...</td>\n",
       "    </tr>\n",
       "    <tr>\n",
       "      <th>1</th>\n",
       "      <td>Baw Baw Frog</td>\n",
       "      <td>https://www.zoo.org.au/media/2052/21295_baw_ba...</td>\n",
       "      <td>Baw Baw Frog resting in bright green moss. Loo...</td>\n",
       "      <td>All estimates point to extinction in the wild ...</td>\n",
       "      <td>Major threats\\nThe loss of the Baw Baw Frog is...</td>\n",
       "    </tr>\n",
       "    <tr>\n",
       "      <th>2</th>\n",
       "      <td>Brush-tailed Rock-wallaby</td>\n",
       "      <td>https://www.zoo.org.au/media/2045/21882_brush-...</td>\n",
       "      <td>Brush Tailed Rock Wallabies resting in the grass.</td>\n",
       "      <td>In Victoria, the Brush-tailed Rock-wallaby now...</td>\n",
       "      <td>Major threats \\nChanges to habitat and the imp...</td>\n",
       "    </tr>\n",
       "    <tr>\n",
       "      <th>3</th>\n",
       "      <td>Eastern Barred Bandicoot</td>\n",
       "      <td>https://www.zoo.org.au/media/2053/4376_eastern...</td>\n",
       "      <td>Small Eastern Barred Bandicoot side view forag...</td>\n",
       "      <td>The Eastern Barred Bandicoot is listed as exti...</td>\n",
       "      <td>The plan for recovery\\nZoos Victoria has partn...</td>\n",
       "    </tr>\n",
       "    <tr>\n",
       "      <th>4</th>\n",
       "      <td>Giant Burrowing Frog</td>\n",
       "      <td>https://www.zoo.org.au/media/2056/23479_giant_...</td>\n",
       "      <td>Giant Burrowing Frog on wet rocks side view. T...</td>\n",
       "      <td>Although we know that populations of the Giant...</td>\n",
       "      <td>['Over the next five years, Zoos Victoria will...</td>\n",
       "    </tr>\n",
       "  </tbody>\n",
       "</table>\n",
       "</div>"
      ],
      "text/plain": [
       "                 animal_name  \\\n",
       "0       Alpine She-oak Skink   \n",
       "1               Baw Baw Frog   \n",
       "2  Brush-tailed Rock-wallaby   \n",
       "3   Eastern Barred Bandicoot   \n",
       "4       Giant Burrowing Frog   \n",
       "\n",
       "                                           image_url  \\\n",
       "0  https://ZoosVic-Endpoint-Blob-Prod.azureedge.n...   \n",
       "1  https://www.zoo.org.au/media/2052/21295_baw_ba...   \n",
       "2  https://www.zoo.org.au/media/2045/21882_brush-...   \n",
       "3  https://www.zoo.org.au/media/2053/4376_eastern...   \n",
       "4  https://www.zoo.org.au/media/2056/23479_giant_...   \n",
       "\n",
       "                                   image_alternative  \\\n",
       "0  Alpine She-oak Skink sunning it self on a rock...   \n",
       "1  Baw Baw Frog resting in bright green moss. Loo...   \n",
       "2  Brush Tailed Rock Wallabies resting in the grass.   \n",
       "3  Small Eastern Barred Bandicoot side view forag...   \n",
       "4  Giant Burrowing Frog on wet rocks side view. T...   \n",
       "\n",
       "                                        introduction  \\\n",
       "0  Found in only a few locations in Victoria and ...   \n",
       "1  All estimates point to extinction in the wild ...   \n",
       "2  In Victoria, the Brush-tailed Rock-wallaby now...   \n",
       "3  The Eastern Barred Bandicoot is listed as exti...   \n",
       "4  Although we know that populations of the Giant...   \n",
       "\n",
       "                                    threat_paragraph  \n",
       "0  Major threats\\nFire is a huge danger to the Al...  \n",
       "1  Major threats\\nThe loss of the Baw Baw Frog is...  \n",
       "2  Major threats \\nChanges to habitat and the imp...  \n",
       "3  The plan for recovery\\nZoos Victoria has partn...  \n",
       "4  ['Over the next five years, Zoos Victoria will...  "
      ]
     },
     "execution_count": 21,
     "metadata": {},
     "output_type": "execute_result"
    }
   ],
   "source": [
    "# Import the webscraped animal data\n",
    "scraped_df = pd.read_csv(\"../data/animal_image_to_merge.csv\", dtype=\"str\")\n",
    "scraped_df.head()"
   ]
  },
  {
   "cell_type": "code",
   "execution_count": 22,
   "metadata": {
    "scrolled": true
   },
   "outputs": [],
   "source": [
    "# Extract list of unique animals of interest\n",
    "species = scraped_df[\"animal_name\"].unique().tolist()"
   ]
  },
  {
   "cell_type": "code",
   "execution_count": 23,
   "metadata": {},
   "outputs": [
    {
     "data": {
      "text/html": [
       "<div>\n",
       "<style scoped>\n",
       "    .dataframe tbody tr th:only-of-type {\n",
       "        vertical-align: middle;\n",
       "    }\n",
       "\n",
       "    .dataframe tbody tr th {\n",
       "        vertical-align: top;\n",
       "    }\n",
       "\n",
       "    .dataframe thead th {\n",
       "        text-align: right;\n",
       "    }\n",
       "</style>\n",
       "<table border=\"1\" class=\"dataframe\">\n",
       "  <thead>\n",
       "    <tr style=\"text-align: right;\">\n",
       "      <th></th>\n",
       "      <th>record_id</th>\n",
       "      <th>survey_id</th>\n",
       "      <th>site_id</th>\n",
       "      <th>project_id</th>\n",
       "      <th>taxon_id</th>\n",
       "      <th>taxon_type</th>\n",
       "      <th>comm_name</th>\n",
       "      <th>sci_name</th>\n",
       "      <th>totalcount</th>\n",
       "      <th>location_desc</th>\n",
       "      <th>long</th>\n",
       "      <th>lat</th>\n",
       "      <th>end_year</th>\n",
       "      <th>end_mth</th>\n",
       "      <th>end_date</th>\n",
       "      <th>start_year</th>\n",
       "      <th>start_mth</th>\n",
       "      <th>start_date</th>\n",
       "      <th>recordtype</th>\n",
       "      <th>reliability</th>\n",
       "    </tr>\n",
       "  </thead>\n",
       "  <tbody>\n",
       "    <tr>\n",
       "      <th>102</th>\n",
       "      <td>8261909</td>\n",
       "      <td>1225877</td>\n",
       "      <td>833395</td>\n",
       "      <td>4236</td>\n",
       "      <td>11141</td>\n",
       "      <td>Mammals</td>\n",
       "      <td>Leadbeater's Possum</td>\n",
       "      <td>Gymnobelideus leadbeateri</td>\n",
       "      <td>0</td>\n",
       "      <td>DSS3B</td>\n",
       "      <td>145.841904</td>\n",
       "      <td>-37.845600</td>\n",
       "      <td>0</td>\n",
       "      <td>0</td>\n",
       "      <td>NaT</td>\n",
       "      <td>2016</td>\n",
       "      <td>4</td>\n",
       "      <td>2016-04-24</td>\n",
       "      <td>Observation</td>\n",
       "      <td>Confirmed</td>\n",
       "    </tr>\n",
       "    <tr>\n",
       "      <th>195</th>\n",
       "      <td>8590335</td>\n",
       "      <td>1401349</td>\n",
       "      <td>943395</td>\n",
       "      <td>4095</td>\n",
       "      <td>11141</td>\n",
       "      <td>Mammals</td>\n",
       "      <td>Leadbeater's Possum</td>\n",
       "      <td>Gymnobelideus leadbeateri</td>\n",
       "      <td>1</td>\n",
       "      <td>DELWP Case Reference number 2017-0060</td>\n",
       "      <td>146.288498</td>\n",
       "      <td>-37.922600</td>\n",
       "      <td>0</td>\n",
       "      <td>0</td>\n",
       "      <td>NaT</td>\n",
       "      <td>2017</td>\n",
       "      <td>8</td>\n",
       "      <td>2017-08-20</td>\n",
       "      <td>Seen</td>\n",
       "      <td>Confirmed</td>\n",
       "    </tr>\n",
       "    <tr>\n",
       "      <th>391</th>\n",
       "      <td>6942095</td>\n",
       "      <td>1102090</td>\n",
       "      <td>766516</td>\n",
       "      <td>4078</td>\n",
       "      <td>11141</td>\n",
       "      <td>Mammals</td>\n",
       "      <td>Leadbeater's Possum</td>\n",
       "      <td>Gymnobelideus leadbeateri</td>\n",
       "      <td>1</td>\n",
       "      <td>Mon1_camera1</td>\n",
       "      <td>145.934403</td>\n",
       "      <td>-37.818600</td>\n",
       "      <td>2015</td>\n",
       "      <td>9</td>\n",
       "      <td>2015-09-29</td>\n",
       "      <td>2015</td>\n",
       "      <td>9</td>\n",
       "      <td>2015-09-08</td>\n",
       "      <td>Observation</td>\n",
       "      <td>Confirmed</td>\n",
       "    </tr>\n",
       "    <tr>\n",
       "      <th>426</th>\n",
       "      <td>8596613</td>\n",
       "      <td>1405576</td>\n",
       "      <td>947609</td>\n",
       "      <td>1</td>\n",
       "      <td>10309</td>\n",
       "      <td>Non-passerine birds</td>\n",
       "      <td>Swift Parrot</td>\n",
       "      <td>Lathamus discolor</td>\n",
       "      <td>5</td>\n",
       "      <td>Mclaughlans Lane Pipetrack, Plenty</td>\n",
       "      <td>145.108398</td>\n",
       "      <td>-37.676399</td>\n",
       "      <td>2017</td>\n",
       "      <td>9</td>\n",
       "      <td>2017-09-25</td>\n",
       "      <td>2017</td>\n",
       "      <td>9</td>\n",
       "      <td>2017-09-25</td>\n",
       "      <td>Observation</td>\n",
       "      <td>Acceptable</td>\n",
       "    </tr>\n",
       "    <tr>\n",
       "      <th>538</th>\n",
       "      <td>6870927</td>\n",
       "      <td>1085373</td>\n",
       "      <td>716545</td>\n",
       "      <td>4078</td>\n",
       "      <td>11141</td>\n",
       "      <td>Mammals</td>\n",
       "      <td>Leadbeater's Possum</td>\n",
       "      <td>Gymnobelideus leadbeateri</td>\n",
       "      <td>1</td>\n",
       "      <td>40.2_camera2</td>\n",
       "      <td>146.115204</td>\n",
       "      <td>-37.784802</td>\n",
       "      <td>2015</td>\n",
       "      <td>5</td>\n",
       "      <td>2015-05-11</td>\n",
       "      <td>2015</td>\n",
       "      <td>4</td>\n",
       "      <td>2015-04-17</td>\n",
       "      <td>Observation</td>\n",
       "      <td>Confirmed</td>\n",
       "    </tr>\n",
       "  </tbody>\n",
       "</table>\n",
       "</div>"
      ],
      "text/plain": [
       "    record_id survey_id site_id project_id taxon_id           taxon_type  \\\n",
       "102   8261909   1225877  833395       4236    11141              Mammals   \n",
       "195   8590335   1401349  943395       4095    11141              Mammals   \n",
       "391   6942095   1102090  766516       4078    11141              Mammals   \n",
       "426   8596613   1405576  947609          1    10309  Non-passerine birds   \n",
       "538   6870927   1085373  716545       4078    11141              Mammals   \n",
       "\n",
       "               comm_name                   sci_name  totalcount  \\\n",
       "102  Leadbeater's Possum  Gymnobelideus leadbeateri           0   \n",
       "195  Leadbeater's Possum  Gymnobelideus leadbeateri           1   \n",
       "391  Leadbeater's Possum  Gymnobelideus leadbeateri           1   \n",
       "426         Swift Parrot          Lathamus discolor           5   \n",
       "538  Leadbeater's Possum  Gymnobelideus leadbeateri           1   \n",
       "\n",
       "                             location_desc        long        lat  end_year  \\\n",
       "102                                  DSS3B  145.841904 -37.845600         0   \n",
       "195  DELWP Case Reference number 2017-0060  146.288498 -37.922600         0   \n",
       "391                           Mon1_camera1  145.934403 -37.818600      2015   \n",
       "426     Mclaughlans Lane Pipetrack, Plenty  145.108398 -37.676399      2017   \n",
       "538                           40.2_camera2  146.115204 -37.784802      2015   \n",
       "\n",
       "     end_mth   end_date  start_year  start_mth start_date   recordtype  \\\n",
       "102        0        NaT        2016          4 2016-04-24  Observation   \n",
       "195        0        NaT        2017          8 2017-08-20         Seen   \n",
       "391        9 2015-09-29        2015          9 2015-09-08  Observation   \n",
       "426        9 2017-09-25        2017          9 2017-09-25  Observation   \n",
       "538        5 2015-05-11        2015          4 2015-04-17  Observation   \n",
       "\n",
       "    reliability  \n",
       "102   Confirmed  \n",
       "195   Confirmed  \n",
       "391   Confirmed  \n",
       "426  Acceptable  \n",
       "538   Confirmed  "
      ]
     },
     "execution_count": 23,
     "metadata": {},
     "output_type": "execute_result"
    }
   ],
   "source": [
    "# Filter the fauna data with the species of interest\n",
    "short_fauna_df = fauna_df[fauna_df[\"comm_name\"].isin(species)]\n",
    "short_fauna_df.head()"
   ]
  },
  {
   "cell_type": "code",
   "execution_count": 24,
   "metadata": {},
   "outputs": [
    {
     "name": "stdout",
     "output_type": "stream",
     "text": [
      "<class 'pandas.core.frame.DataFrame'>\n",
      "Int64Index: 2712 entries, 102 to 346720\n",
      "Data columns (total 20 columns):\n",
      " #   Column         Non-Null Count  Dtype         \n",
      "---  ------         --------------  -----         \n",
      " 0   record_id      2712 non-null   object        \n",
      " 1   survey_id      2712 non-null   object        \n",
      " 2   site_id        2712 non-null   object        \n",
      " 3   project_id     2712 non-null   object        \n",
      " 4   taxon_id       2712 non-null   object        \n",
      " 5   taxon_type     2712 non-null   object        \n",
      " 6   comm_name      2712 non-null   object        \n",
      " 7   sci_name       2712 non-null   object        \n",
      " 8   totalcount     2712 non-null   int64         \n",
      " 9   location_desc  2712 non-null   object        \n",
      " 10  long           2712 non-null   float64       \n",
      " 11  lat            2712 non-null   float64       \n",
      " 12  end_year       2712 non-null   int64         \n",
      " 13  end_mth        2712 non-null   int64         \n",
      " 14  end_date       899 non-null    datetime64[ns]\n",
      " 15  start_year     2712 non-null   int64         \n",
      " 16  start_mth      2712 non-null   int64         \n",
      " 17  start_date     2712 non-null   datetime64[ns]\n",
      " 18  recordtype     2712 non-null   object        \n",
      " 19  reliability    2712 non-null   object        \n",
      "dtypes: datetime64[ns](2), float64(2), int64(5), object(11)\n",
      "memory usage: 444.9+ KB\n"
     ]
    }
   ],
   "source": [
    "# Overview of the fauna data after filtering\n",
    "short_fauna_df.info()"
   ]
  },
  {
   "cell_type": "code",
   "execution_count": 25,
   "metadata": {},
   "outputs": [
    {
     "name": "stdout",
     "output_type": "stream",
     "text": [
      "Maximum total count is: 128\n",
      "Minimum total count is: 0\n",
      "Maximum longitude is: 149.9367981\n",
      "Minimum longitude is: 140.9933014\n",
      "Maximum latitude is: -34.5940018\n",
      "Minimum latitude is: -39.0321007\n",
      "Maximum end year is: 2020\n",
      "Minimum end year is: 0\n",
      "Maximum end month is: 12\n",
      "Minimum end month is: 0\n",
      "Maximum start year is: 2020\n",
      "Minimum start year is: 2015\n",
      "Maximum start month is: 12\n",
      "Minimum start month is: 1\n"
     ]
    }
   ],
   "source": [
    "# Check for any extreme values\n",
    "print(f\"Maximum total count is: {short_fauna_df.totalcount.max()}\")\n",
    "print(f\"Minimum total count is: {short_fauna_df.totalcount.min()}\")\n",
    "print(f\"Maximum longitude is: {short_fauna_df.long.max()}\")\n",
    "print(f\"Minimum longitude is: {short_fauna_df.long.min()}\")\n",
    "print(f\"Maximum latitude is: {short_fauna_df.lat.max()}\")\n",
    "print(f\"Minimum latitude is: {short_fauna_df.lat.min()}\")\n",
    "print(f\"Maximum end year is: {short_fauna_df.end_year.max()}\")\n",
    "print(f\"Minimum end year is: {short_fauna_df.end_year.min()}\")\n",
    "print(f\"Maximum end month is: {short_fauna_df.end_mth.max()}\")\n",
    "print(f\"Minimum end month is: {short_fauna_df.end_mth.min()}\")\n",
    "print(f\"Maximum start year is: {short_fauna_df.start_year.max()}\")\n",
    "print(f\"Minimum start year is: {short_fauna_df.start_year.min()}\")\n",
    "print(f\"Maximum start month is: {short_fauna_df.start_mth.max()}\")\n",
    "print(f\"Minimum start month is: {short_fauna_df.start_mth.min()}\")"
   ]
  },
  {
   "cell_type": "markdown",
   "metadata": {},
   "source": [
    "As can be seen, there are a number of records with total count of 0. They are records of surveys with no sightings of a targeted specie. Hence, we'll remove them.\n",
    "\n",
    "As there are a lot of null end_date values, their extracted end years and end months equal to 0. Hence we might use start date in our time series visualisation. The null end dates might indicate that a survey hasn't ended up to our group's data extraction."
   ]
  },
  {
   "cell_type": "code",
   "execution_count": 26,
   "metadata": {},
   "outputs": [
    {
     "name": "stdout",
     "output_type": "stream",
     "text": [
      "The number of records with totalcount of zero: 623\n"
     ]
    }
   ],
   "source": [
    "print(f\"The number of records with totalcount of zero: {short_fauna_df[short_fauna_df.totalcount == 0].shape[0]}\")"
   ]
  },
  {
   "cell_type": "code",
   "execution_count": 27,
   "metadata": {},
   "outputs": [
    {
     "data": {
      "text/plain": [
       "array(['DSS3B', 'DELWP Case Reference number 2017-0060', 'Mon1_camera1',\n",
       "       ..., '316A', '316B', '316C'], dtype=object)"
      ]
     },
     "execution_count": 27,
     "metadata": {},
     "output_type": "execute_result"
    }
   ],
   "source": [
    "# Values in location description column\n",
    "short_fauna_df[\"location_desc\"].unique()"
   ]
  },
  {
   "cell_type": "code",
   "execution_count": 28,
   "metadata": {},
   "outputs": [
    {
     "data": {
      "text/plain": [
       "array(['Observation', 'Seen', 'Observation with supporting evidence',\n",
       "       'Captured and released', 'Indirect evidence', 'Heard', 'Captured'],\n",
       "      dtype=object)"
      ]
     },
     "execution_count": 28,
     "metadata": {},
     "output_type": "execute_result"
    }
   ],
   "source": [
    "# Values in record types column\n",
    "short_fauna_df[\"recordtype\"].unique()"
   ]
  },
  {
   "cell_type": "code",
   "execution_count": 29,
   "metadata": {},
   "outputs": [
    {
     "data": {
      "text/plain": [
       "array(['Confirmed', 'Acceptable'], dtype=object)"
      ]
     },
     "execution_count": 29,
     "metadata": {},
     "output_type": "execute_result"
    }
   ],
   "source": [
    "# Values in reliability column\n",
    "short_fauna_df[\"reliability\"].unique()"
   ]
  },
  {
   "cell_type": "markdown",
   "metadata": {},
   "source": [
    "Values in the location description, record types and reliability columns do not seem to be informative enough. Hence we'll remove these columns. We'll also remove columns project_id and site_id as they are not required for our project's purpose."
   ]
  },
  {
   "cell_type": "code",
   "execution_count": 30,
   "metadata": {},
   "outputs": [
    {
     "name": "stdout",
     "output_type": "stream",
     "text": [
      "<class 'pandas.core.frame.DataFrame'>\n",
      "Int64Index: 2089 entries, 195 to 346720\n",
      "Data columns (total 12 columns):\n",
      " #   Column      Non-Null Count  Dtype         \n",
      "---  ------      --------------  -----         \n",
      " 0   record_id   2089 non-null   object        \n",
      " 1   survey_id   2089 non-null   object        \n",
      " 2   taxon_id    2089 non-null   object        \n",
      " 3   taxon_type  2089 non-null   object        \n",
      " 4   comm_name   2089 non-null   object        \n",
      " 5   sci_name    2089 non-null   object        \n",
      " 6   totalcount  2089 non-null   int64         \n",
      " 7   long        2089 non-null   float64       \n",
      " 8   lat         2089 non-null   float64       \n",
      " 9   start_year  2089 non-null   int64         \n",
      " 10  start_mth   2089 non-null   int64         \n",
      " 11  start_date  2089 non-null   datetime64[ns]\n",
      "dtypes: datetime64[ns](1), float64(2), int64(3), object(6)\n",
      "memory usage: 212.2+ KB\n"
     ]
    }
   ],
   "source": [
    "# Filter out the records with total count of 0 and remove end_year, end_date, and end_mth columns\n",
    "final_fauna_df = short_fauna_df[short_fauna_df.totalcount > 0].drop([\n",
    "    'site_id', 'project_id', \"location_desc\", 'end_year', 'end_mth', 'end_date', 'recordtype', 'reliability'], axis = 1)\n",
    "final_fauna_df.info()"
   ]
  },
  {
   "cell_type": "markdown",
   "metadata": {},
   "source": [
    "## Filter webscraped animal image data against VBA fauna data "
   ]
  },
  {
   "cell_type": "code",
   "execution_count": 32,
   "metadata": {},
   "outputs": [
    {
     "data": {
      "text/plain": [
       "[\"Leadbeater's Possum\",\n",
       " 'Swift Parrot',\n",
       " 'Mountain Pygmy-possum',\n",
       " 'New Holland Mouse',\n",
       " 'Mallee Emu-wren',\n",
       " 'Hooded Plover',\n",
       " 'Giant Burrowing Frog',\n",
       " 'Greater Glider',\n",
       " 'Regent Honeyeater']"
      ]
     },
     "execution_count": 32,
     "metadata": {},
     "output_type": "execute_result"
    }
   ],
   "source": [
    "final_animal_list = final_fauna_df[\"comm_name\"].unique().tolist()\n",
    "final_animal_list"
   ]
  },
  {
   "cell_type": "code",
   "execution_count": 35,
   "metadata": {},
   "outputs": [
    {
     "data": {
      "text/html": [
       "<div>\n",
       "<style scoped>\n",
       "    .dataframe tbody tr th:only-of-type {\n",
       "        vertical-align: middle;\n",
       "    }\n",
       "\n",
       "    .dataframe tbody tr th {\n",
       "        vertical-align: top;\n",
       "    }\n",
       "\n",
       "    .dataframe thead th {\n",
       "        text-align: right;\n",
       "    }\n",
       "</style>\n",
       "<table border=\"1\" class=\"dataframe\">\n",
       "  <thead>\n",
       "    <tr style=\"text-align: right;\">\n",
       "      <th></th>\n",
       "      <th>index</th>\n",
       "      <th>animal_name</th>\n",
       "      <th>image_url</th>\n",
       "      <th>image_alternative</th>\n",
       "      <th>introduction</th>\n",
       "      <th>threat_paragraph</th>\n",
       "    </tr>\n",
       "  </thead>\n",
       "  <tbody>\n",
       "    <tr>\n",
       "      <th>0</th>\n",
       "      <td>4</td>\n",
       "      <td>Giant Burrowing Frog</td>\n",
       "      <td>https://www.zoo.org.au/media/2056/23479_giant_...</td>\n",
       "      <td>Giant Burrowing Frog on wet rocks side view. T...</td>\n",
       "      <td>Although we know that populations of the Giant...</td>\n",
       "      <td>['Over the next five years, Zoos Victoria will...</td>\n",
       "    </tr>\n",
       "    <tr>\n",
       "      <th>1</th>\n",
       "      <td>11</td>\n",
       "      <td>Leadbeater's Possum</td>\n",
       "      <td>https://www.zoo.org.au/media/2057/22861_leadbe...</td>\n",
       "      <td>Close up view of the face of a Leadbeater Poss...</td>\n",
       "      <td>Once thought to be extinct, the Leadbeater's P...</td>\n",
       "      <td>The major threats\\nThe loss of hollow-bearing ...</td>\n",
       "    </tr>\n",
       "    <tr>\n",
       "      <th>2</th>\n",
       "      <td>13</td>\n",
       "      <td>Mallee Emu-wren</td>\n",
       "      <td>https://www.zoo.org.au/media/1961/23483_mallee...</td>\n",
       "      <td>Mallee Emu-wren in long dry grass looking at t...</td>\n",
       "      <td>The Mallee Emu-wren is particularly vulnerable...</td>\n",
       "      <td>['In fact, it was a series of fires that cause...</td>\n",
       "    </tr>\n",
       "    <tr>\n",
       "      <th>3</th>\n",
       "      <td>14</td>\n",
       "      <td>Mountain Pygmy-possum</td>\n",
       "      <td>https://www.zoo.org.au/media/2058/16910_mounta...</td>\n",
       "      <td>Mountain Pygmy Possum standing on its hind leg...</td>\n",
       "      <td>Mountain Pygmy-possums were thought to be exti...</td>\n",
       "      <td>The major threats \\nClimate change, the loss o...</td>\n",
       "    </tr>\n",
       "    <tr>\n",
       "      <th>4</th>\n",
       "      <td>15</td>\n",
       "      <td>New Holland Mouse</td>\n",
       "      <td>https://www.zoo.org.au/media/1732/new-holland-...</td>\n",
       "      <td>New Holland Mouse getting a health check wrapp...</td>\n",
       "      <td>The New Holland Mouse is classified as extinct...</td>\n",
       "      <td>The major threats\\nThe New Holland Mouse is in...</td>\n",
       "    </tr>\n",
       "    <tr>\n",
       "      <th>5</th>\n",
       "      <td>19</td>\n",
       "      <td>Regent Honeyeater</td>\n",
       "      <td>https://www.zoo.org.au/media/2055/22249_regent...</td>\n",
       "      <td>Regent Honeyeater bird on a branch looking dow...</td>\n",
       "      <td>The Regent Honeyeater has been in decline sinc...</td>\n",
       "      <td>The major threats\\nThe loss of the Box-Ironbar...</td>\n",
       "    </tr>\n",
       "    <tr>\n",
       "      <th>6</th>\n",
       "      <td>25</td>\n",
       "      <td>Swift Parrot</td>\n",
       "      <td>https://www.zoo.org.au/media/1960/23484_swift_...</td>\n",
       "      <td>Green Swift Parrot perched on a branch looking...</td>\n",
       "      <td>The Swift Parrot is critically endangered.</td>\n",
       "      <td>['Unless we can solve the issues surrounding i...</td>\n",
       "    </tr>\n",
       "    <tr>\n",
       "      <th>7</th>\n",
       "      <td>27</td>\n",
       "      <td>Greater Glider</td>\n",
       "      <td>https://www.environment.vic.gov.au/__data/asse...</td>\n",
       "      <td>Greater Glider</td>\n",
       "      <td>NaN</td>\n",
       "      <td>Species InformationThe Greater Glider is Austr...</td>\n",
       "    </tr>\n",
       "    <tr>\n",
       "      <th>8</th>\n",
       "      <td>28</td>\n",
       "      <td>Hooded Plover</td>\n",
       "      <td>https://www.environment.vic.gov.au/__data/asse...</td>\n",
       "      <td>Hooded Plover</td>\n",
       "      <td>Species Information\\n\\nHooded Plovers are a re...</td>\n",
       "      <td>Threats\\n\\nHooded Plovers often share their oc...</td>\n",
       "    </tr>\n",
       "  </tbody>\n",
       "</table>\n",
       "</div>"
      ],
      "text/plain": [
       "   index            animal_name  \\\n",
       "0      4   Giant Burrowing Frog   \n",
       "1     11    Leadbeater's Possum   \n",
       "2     13        Mallee Emu-wren   \n",
       "3     14  Mountain Pygmy-possum   \n",
       "4     15      New Holland Mouse   \n",
       "5     19      Regent Honeyeater   \n",
       "6     25           Swift Parrot   \n",
       "7     27         Greater Glider   \n",
       "8     28          Hooded Plover   \n",
       "\n",
       "                                           image_url  \\\n",
       "0  https://www.zoo.org.au/media/2056/23479_giant_...   \n",
       "1  https://www.zoo.org.au/media/2057/22861_leadbe...   \n",
       "2  https://www.zoo.org.au/media/1961/23483_mallee...   \n",
       "3  https://www.zoo.org.au/media/2058/16910_mounta...   \n",
       "4  https://www.zoo.org.au/media/1732/new-holland-...   \n",
       "5  https://www.zoo.org.au/media/2055/22249_regent...   \n",
       "6  https://www.zoo.org.au/media/1960/23484_swift_...   \n",
       "7  https://www.environment.vic.gov.au/__data/asse...   \n",
       "8  https://www.environment.vic.gov.au/__data/asse...   \n",
       "\n",
       "                                   image_alternative  \\\n",
       "0  Giant Burrowing Frog on wet rocks side view. T...   \n",
       "1  Close up view of the face of a Leadbeater Poss...   \n",
       "2  Mallee Emu-wren in long dry grass looking at t...   \n",
       "3  Mountain Pygmy Possum standing on its hind leg...   \n",
       "4  New Holland Mouse getting a health check wrapp...   \n",
       "5  Regent Honeyeater bird on a branch looking dow...   \n",
       "6  Green Swift Parrot perched on a branch looking...   \n",
       "7                                     Greater Glider   \n",
       "8                                      Hooded Plover   \n",
       "\n",
       "                                        introduction  \\\n",
       "0  Although we know that populations of the Giant...   \n",
       "1  Once thought to be extinct, the Leadbeater's P...   \n",
       "2  The Mallee Emu-wren is particularly vulnerable...   \n",
       "3  Mountain Pygmy-possums were thought to be exti...   \n",
       "4  The New Holland Mouse is classified as extinct...   \n",
       "5  The Regent Honeyeater has been in decline sinc...   \n",
       "6         The Swift Parrot is critically endangered.   \n",
       "7                                                NaN   \n",
       "8  Species Information\\n\\nHooded Plovers are a re...   \n",
       "\n",
       "                                    threat_paragraph  \n",
       "0  ['Over the next five years, Zoos Victoria will...  \n",
       "1  The major threats\\nThe loss of hollow-bearing ...  \n",
       "2  ['In fact, it was a series of fires that cause...  \n",
       "3  The major threats \\nClimate change, the loss o...  \n",
       "4  The major threats\\nThe New Holland Mouse is in...  \n",
       "5  The major threats\\nThe loss of the Box-Ironbar...  \n",
       "6  ['Unless we can solve the issues surrounding i...  \n",
       "7  Species InformationThe Greater Glider is Austr...  \n",
       "8  Threats\\n\\nHooded Plovers often share their oc...  "
      ]
     },
     "execution_count": 35,
     "metadata": {},
     "output_type": "execute_result"
    }
   ],
   "source": [
    "# Filter the webscraped data to have only the above animals\n",
    "final_scraped_df = scraped_df[scraped_df[\"animal_name\"].isin(final_animal_list)]\n",
    "final_scraped_df"
   ]
  },
  {
   "cell_type": "markdown",
   "metadata": {},
   "source": [
    "## Load"
   ]
  },
  {
   "cell_type": "code",
   "execution_count": null,
   "metadata": {},
   "outputs": [],
   "source": [
    "# Initialize PyMongo to work with MongoDBs\n",
    "conn = 'mongodb://localhost:27017'\n",
    "client = pymongo.MongoClient(conn)\n",
    "\n",
    "# Define database and collections\n",
    "db = client.animal_visual_db\n",
    "vba_fauna = db.vba_fauna\n",
    "scraped_fauna = db.scraped_fauna"
   ]
  },
  {
   "cell_type": "code",
   "execution_count": null,
   "metadata": {},
   "outputs": [],
   "source": [
    "# Drops collections if available to remove duplicates\n",
    "vba_fauna.drop()\n",
    "scraped_fauna.drop()"
   ]
  },
  {
   "cell_type": "code",
   "execution_count": null,
   "metadata": {},
   "outputs": [],
   "source": [
    "# Load fauna data into the vba_fauna collection\n",
    "scraped_fauna.insert_many(final_fauna_df.to_dict('records'))"
   ]
  },
  {
   "cell_type": "code",
   "execution_count": null,
   "metadata": {},
   "outputs": [],
   "source": [
    "# Load scraped fauna image and info into the scraped_fauna collection\n"
   ]
  },
  {
   "cell_type": "code",
   "execution_count": null,
   "metadata": {},
   "outputs": [],
   "source": [
    "from pprint import pprint\n",
    "\n",
    "for record in collection.find():\n",
    "    pprint(record)"
   ]
  },
  {
   "cell_type": "code",
   "execution_count": null,
   "metadata": {},
   "outputs": [],
   "source": [
    "type(collection.find())"
   ]
  },
  {
   "cell_type": "code",
   "execution_count": null,
   "metadata": {},
   "outputs": [],
   "source": [
    "agr = [\n",
    "  {\n",
    "    \"$group\" : {\n",
    "       \"_id\" : \"$comm_name\",\n",
    "       \"totalSightings\": { \"$sum\": \"$totalcount\" },\n",
    "    }\n",
    "  }\n",
    " ]"
   ]
  },
  {
   "cell_type": "code",
   "execution_count": null,
   "metadata": {},
   "outputs": [],
   "source": [
    "var = list(collection.aggregate(agr))\n",
    "var"
   ]
  },
  {
   "cell_type": "code",
   "execution_count": null,
   "metadata": {},
   "outputs": [],
   "source": []
  }
 ],
 "metadata": {
  "kernelspec": {
   "display_name": "Python [conda env:PythonData] *",
   "language": "python",
   "name": "conda-env-PythonData-py"
  },
  "language_info": {
   "codemirror_mode": {
    "name": "ipython",
    "version": 3
   },
   "file_extension": ".py",
   "mimetype": "text/x-python",
   "name": "python",
   "nbconvert_exporter": "python",
   "pygments_lexer": "ipython3",
   "version": "3.7.6"
  },
  "toc": {
   "base_numbering": 1,
   "nav_menu": {},
   "number_sections": true,
   "sideBar": true,
   "skip_h1_title": false,
   "title_cell": "Table of Contents",
   "title_sidebar": "Contents",
   "toc_cell": false,
   "toc_position": {},
   "toc_section_display": true,
   "toc_window_display": false
  },
  "varInspector": {
   "cols": {
    "lenName": 16,
    "lenType": 16,
    "lenVar": 40
   },
   "kernels_config": {
    "python": {
     "delete_cmd_postfix": "",
     "delete_cmd_prefix": "del ",
     "library": "var_list.py",
     "varRefreshCmd": "print(var_dic_list())"
    },
    "r": {
     "delete_cmd_postfix": ") ",
     "delete_cmd_prefix": "rm(",
     "library": "var_list.r",
     "varRefreshCmd": "cat(var_dic_list()) "
    }
   },
   "types_to_exclude": [
    "module",
    "function",
    "builtin_function_or_method",
    "instance",
    "_Feature"
   ],
   "window_display": false
  }
 },
 "nbformat": 4,
 "nbformat_minor": 4
}
