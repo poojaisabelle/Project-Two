{
 "cells": [
  {
   "cell_type": "code",
   "execution_count": 1,
   "metadata": {},
   "outputs": [],
   "source": [
    "# Import dependencies\n",
    "import pandas as pd\n",
    "import numpy as np\n",
    "import matplotlib.pyplot as plt"
   ]
  },
  {
   "cell_type": "code",
   "execution_count": 2,
   "metadata": {},
   "outputs": [
    {
     "data": {
      "text/plain": [
       "Index(['RECORD_ID', 'SITE_ID', 'SURVEY_ID', 'PROJECT_ID', 'TAXON_ID',\n",
       "       'SCI_NAME', 'COMM_NAME', 'RECORDTYPE', 'RELIABILTY', 'TOTALCOUNT',\n",
       "       'STARTDATE', 'START_YEAR', 'START_MTH', 'ENDDATE', 'END_YEAR',\n",
       "       'END_MTH', 'LOCN_DESC', 'TAXON_TYPE', 'LONG_DD94', 'LAT_DD94'],\n",
       "      dtype='object')"
      ]
     },
     "execution_count": 2,
     "metadata": {},
     "output_type": "execute_result"
    }
   ],
   "source": [
    "# Read just the column names in fauna data csv\n",
    "col_names = pd.read_csv(\"../1_data/VBA_2015_2020.csv\", nrows = 0).columns\n",
    "col_names"
   ]
  },
  {
   "cell_type": "code",
   "execution_count": 3,
   "metadata": {},
   "outputs": [],
   "source": [
    "# Set data types for columns with data types other than strings\n",
    "dtypes_dict = {\n",
    "    \"TOTALCOUNT\": int,\n",
    "    \"START_YEAR\": int,\n",
    "    \"START_MTH\": int,\n",
    "    \"END_YEAR\": int,\n",
    "    \"END_MTH\": int,\n",
    "    \"LONG_DD94\": float,\n",
    "    \"LAT_DD94\": float\n",
    "}"
   ]
  },
  {
   "cell_type": "code",
   "execution_count": 4,
   "metadata": {},
   "outputs": [
    {
     "data": {
      "text/html": [
       "<div>\n",
       "<style scoped>\n",
       "    .dataframe tbody tr th:only-of-type {\n",
       "        vertical-align: middle;\n",
       "    }\n",
       "\n",
       "    .dataframe tbody tr th {\n",
       "        vertical-align: top;\n",
       "    }\n",
       "\n",
       "    .dataframe thead th {\n",
       "        text-align: right;\n",
       "    }\n",
       "</style>\n",
       "<table border=\"1\" class=\"dataframe\">\n",
       "  <thead>\n",
       "    <tr style=\"text-align: right;\">\n",
       "      <th></th>\n",
       "      <th>RECORD_ID</th>\n",
       "      <th>SITE_ID</th>\n",
       "      <th>SURVEY_ID</th>\n",
       "      <th>PROJECT_ID</th>\n",
       "      <th>TAXON_ID</th>\n",
       "      <th>SCI_NAME</th>\n",
       "      <th>COMM_NAME</th>\n",
       "      <th>RECORDTYPE</th>\n",
       "      <th>RELIABILTY</th>\n",
       "      <th>TOTALCOUNT</th>\n",
       "      <th>STARTDATE</th>\n",
       "      <th>START_YEAR</th>\n",
       "      <th>START_MTH</th>\n",
       "      <th>ENDDATE</th>\n",
       "      <th>END_YEAR</th>\n",
       "      <th>END_MTH</th>\n",
       "      <th>LOCN_DESC</th>\n",
       "      <th>TAXON_TYPE</th>\n",
       "      <th>LONG_DD94</th>\n",
       "      <th>LAT_DD94</th>\n",
       "    </tr>\n",
       "  </thead>\n",
       "  <tbody>\n",
       "    <tr>\n",
       "      <th>0</th>\n",
       "      <td>8597419</td>\n",
       "      <td>947931</td>\n",
       "      <td>1405903</td>\n",
       "      <td>4377</td>\n",
       "      <td>1557</td>\n",
       "      <td>Paratya australiensis</td>\n",
       "      <td>Common Freshwater Shrimp</td>\n",
       "      <td>Observation</td>\n",
       "      <td>Confirmed</td>\n",
       "      <td>0</td>\n",
       "      <td>2016-12-16</td>\n",
       "      <td>2016</td>\n",
       "      <td>12</td>\n",
       "      <td>NaT</td>\n",
       "      <td>0</td>\n",
       "      <td>0</td>\n",
       "      <td>McCallum Creek-4_7-TR-16-333</td>\n",
       "      <td>Mussels, decopod crustacea</td>\n",
       "      <td>143.649002</td>\n",
       "      <td>-37.283901</td>\n",
       "    </tr>\n",
       "    <tr>\n",
       "      <th>1</th>\n",
       "      <td>9067844</td>\n",
       "      <td>1084677</td>\n",
       "      <td>1776514</td>\n",
       "      <td>5326</td>\n",
       "      <td>10408</td>\n",
       "      <td>Colluricincla harmonica</td>\n",
       "      <td>Grey Shrike-thrush</td>\n",
       "      <td>Observation with supporting evidence</td>\n",
       "      <td>Acceptable</td>\n",
       "      <td>0</td>\n",
       "      <td>2018-08-28</td>\n",
       "      <td>2018</td>\n",
       "      <td>8</td>\n",
       "      <td>2018-09-25</td>\n",
       "      <td>2018</td>\n",
       "      <td>9</td>\n",
       "      <td>345-513-0003 FSQ1</td>\n",
       "      <td>Passerine birds</td>\n",
       "      <td>145.768997</td>\n",
       "      <td>-37.782501</td>\n",
       "    </tr>\n",
       "    <tr>\n",
       "      <th>2</th>\n",
       "      <td>8218590</td>\n",
       "      <td>771970</td>\n",
       "      <td>1221401</td>\n",
       "      <td>4366</td>\n",
       "      <td>10991</td>\n",
       "      <td>Turdus merula</td>\n",
       "      <td>Common Blackbird</td>\n",
       "      <td>Seen</td>\n",
       "      <td>Acceptable</td>\n",
       "      <td>0</td>\n",
       "      <td>2015-04-12</td>\n",
       "      <td>2015</td>\n",
       "      <td>4</td>\n",
       "      <td>NaT</td>\n",
       "      <td>0</td>\n",
       "      <td>0</td>\n",
       "      <td>Ocean Acres Bush Park Nature Reserve</td>\n",
       "      <td>Passerine birds</td>\n",
       "      <td>144.287399</td>\n",
       "      <td>-38.315601</td>\n",
       "    </tr>\n",
       "    <tr>\n",
       "      <th>3</th>\n",
       "      <td>9047388</td>\n",
       "      <td>1070861</td>\n",
       "      <td>1760792</td>\n",
       "      <td>5326</td>\n",
       "      <td>11242</td>\n",
       "      <td>Wallabia bicolor</td>\n",
       "      <td>Black-tailed Wallaby</td>\n",
       "      <td>Observation with supporting evidence</td>\n",
       "      <td>Acceptable</td>\n",
       "      <td>0</td>\n",
       "      <td>2018-11-14</td>\n",
       "      <td>2018</td>\n",
       "      <td>11</td>\n",
       "      <td>2018-12-14</td>\n",
       "      <td>2018</td>\n",
       "      <td>12</td>\n",
       "      <td>833-518-0004 BUQ1</td>\n",
       "      <td>Mammals</td>\n",
       "      <td>148.848099</td>\n",
       "      <td>-37.601601</td>\n",
       "    </tr>\n",
       "    <tr>\n",
       "      <th>4</th>\n",
       "      <td>9359539</td>\n",
       "      <td>1116727</td>\n",
       "      <td>1809370</td>\n",
       "      <td>5543</td>\n",
       "      <td>10525</td>\n",
       "      <td>Cisticola exilis</td>\n",
       "      <td>Golden-headed Cisticola</td>\n",
       "      <td>Seen</td>\n",
       "      <td>Acceptable</td>\n",
       "      <td>1</td>\n",
       "      <td>2015-05-07</td>\n",
       "      <td>2015</td>\n",
       "      <td>5</td>\n",
       "      <td>2015-05-07</td>\n",
       "      <td>2015</td>\n",
       "      <td>5</td>\n",
       "      <td>MANNIBADAR (581481)</td>\n",
       "      <td>Passerine birds</td>\n",
       "      <td>143.481903</td>\n",
       "      <td>-37.781799</td>\n",
       "    </tr>\n",
       "  </tbody>\n",
       "</table>\n",
       "</div>"
      ],
      "text/plain": [
       "  RECORD_ID  SITE_ID SURVEY_ID PROJECT_ID TAXON_ID                 SCI_NAME  \\\n",
       "0   8597419   947931   1405903       4377     1557    Paratya australiensis   \n",
       "1   9067844  1084677   1776514       5326    10408  Colluricincla harmonica   \n",
       "2   8218590   771970   1221401       4366    10991            Turdus merula   \n",
       "3   9047388  1070861   1760792       5326    11242         Wallabia bicolor   \n",
       "4   9359539  1116727   1809370       5543    10525         Cisticola exilis   \n",
       "\n",
       "                  COMM_NAME                            RECORDTYPE  RELIABILTY  \\\n",
       "0  Common Freshwater Shrimp                           Observation   Confirmed   \n",
       "1        Grey Shrike-thrush  Observation with supporting evidence  Acceptable   \n",
       "2          Common Blackbird                                  Seen  Acceptable   \n",
       "3      Black-tailed Wallaby  Observation with supporting evidence  Acceptable   \n",
       "4   Golden-headed Cisticola                                  Seen  Acceptable   \n",
       "\n",
       "   TOTALCOUNT  STARTDATE  START_YEAR  START_MTH    ENDDATE  END_YEAR  END_MTH  \\\n",
       "0           0 2016-12-16        2016         12        NaT         0        0   \n",
       "1           0 2018-08-28        2018          8 2018-09-25      2018        9   \n",
       "2           0 2015-04-12        2015          4        NaT         0        0   \n",
       "3           0 2018-11-14        2018         11 2018-12-14      2018       12   \n",
       "4           1 2015-05-07        2015          5 2015-05-07      2015        5   \n",
       "\n",
       "                              LOCN_DESC                  TAXON_TYPE  \\\n",
       "0          McCallum Creek-4_7-TR-16-333  Mussels, decopod crustacea   \n",
       "1                     345-513-0003 FSQ1             Passerine birds   \n",
       "2  Ocean Acres Bush Park Nature Reserve             Passerine birds   \n",
       "3                     833-518-0004 BUQ1                     Mammals   \n",
       "4                   MANNIBADAR (581481)             Passerine birds   \n",
       "\n",
       "    LONG_DD94   LAT_DD94  \n",
       "0  143.649002 -37.283901  \n",
       "1  145.768997 -37.782501  \n",
       "2  144.287399 -38.315601  \n",
       "3  148.848099 -37.601601  \n",
       "4  143.481903 -37.781799  "
      ]
     },
     "execution_count": 4,
     "metadata": {},
     "output_type": "execute_result"
    }
   ],
   "source": [
    "# Read in vic fauna csv\n",
    "fauna_data = pd.read_csv(\n",
    "    \"../1_data/VBA_2015_2020.csv\",\n",
    "    parse_dates = [\"STARTDATE\", \"ENDDATE\"],\n",
    "    dtype = {col: str for col in col_names if col not in dtypes_dict})\n",
    "fauna_data.head()"
   ]
  },
  {
   "cell_type": "code",
   "execution_count": 5,
   "metadata": {},
   "outputs": [],
   "source": [
    "# Column Renaming\n",
    "fauna_df = fauna_data.rename(columns={\n",
    "    \"RECORD_ID\": \"record_id\",\n",
    "    \"SITE_ID\": \"site_id\",\n",
    "    \"SURVEY_ID\": \"survey_id\",\n",
    "    \"PROJECT_ID\": \"project_id\",\n",
    "    \"TAXON_ID\": \"taxon_id\",\n",
    "    \"SCI_NAME\": \"sci_name\",\n",
    "    \"COMM_NAME\": \"comm_name\",\n",
    "    \"RECORDTYPE\": \"recordtype\",\n",
    "    \"RELIABILTY\": \"reliability\",\n",
    "    \"TOTALCOUNT\": \"totalcount\",\n",
    "    \"STARTDATE\": \"start_date\",\n",
    "    \"START_YEAR\": \"start_year\",\n",
    "    \"START_MTH\": \"start_mth\",\n",
    "    \"ENDDATE\": \"end_date\",\n",
    "    \"END_YEAR\": \"end_year\",\n",
    "    \"END_MTH\": \"end_mth\",\n",
    "    \"LOCN_DESC\": \"location_desc\",\n",
    "    \"TAXON_TYPE\": \"taxon_type\",\n",
    "    \"LONG_DD94\": \"long\",\n",
    "    \"LAT_DD94\": \"lat\"})"
   ]
  },
  {
   "cell_type": "code",
   "execution_count": 6,
   "metadata": {},
   "outputs": [
    {
     "data": {
      "text/plain": [
       "True"
      ]
     },
     "execution_count": 6,
     "metadata": {},
     "output_type": "execute_result"
    }
   ],
   "source": [
    "# Test record_id uniqueness\n",
    "fauna_df.record_id.is_unique"
   ]
  },
  {
   "cell_type": "code",
   "execution_count": 7,
   "metadata": {},
   "outputs": [
    {
     "name": "stdout",
     "output_type": "stream",
     "text": [
      "Number of unique record ids: 346829\n"
     ]
    }
   ],
   "source": [
    "print(f\"Number of unique record ids: {fauna_df.record_id.nunique()}\")"
   ]
  },
  {
   "cell_type": "code",
   "execution_count": 8,
   "metadata": {},
   "outputs": [
    {
     "data": {
      "text/plain": [
       "False"
      ]
     },
     "execution_count": 8,
     "metadata": {},
     "output_type": "execute_result"
    }
   ],
   "source": [
    "# Test survey_id uniqueness\n",
    "fauna_df.survey_id.is_unique"
   ]
  },
  {
   "cell_type": "code",
   "execution_count": 9,
   "metadata": {},
   "outputs": [
    {
     "name": "stdout",
     "output_type": "stream",
     "text": [
      "Number of unique survey ids: 97240\n"
     ]
    }
   ],
   "source": [
    "print(f\"Number of unique survey ids: {fauna_df.survey_id.nunique()}\")"
   ]
  },
  {
   "cell_type": "code",
   "execution_count": 10,
   "metadata": {},
   "outputs": [
    {
     "data": {
      "text/plain": [
       "False"
      ]
     },
     "execution_count": 10,
     "metadata": {},
     "output_type": "execute_result"
    }
   ],
   "source": [
    "# Test site_id uniqueness\n",
    "fauna_df.site_id.is_unique"
   ]
  },
  {
   "cell_type": "code",
   "execution_count": 11,
   "metadata": {},
   "outputs": [
    {
     "name": "stdout",
     "output_type": "stream",
     "text": [
      "Number of unique site ids: 55164\n"
     ]
    }
   ],
   "source": [
    "print(f\"Number of unique site ids: {fauna_df.site_id.nunique()}\")"
   ]
  },
  {
   "cell_type": "code",
   "execution_count": 12,
   "metadata": {},
   "outputs": [
    {
     "data": {
      "text/plain": [
       "False"
      ]
     },
     "execution_count": 12,
     "metadata": {},
     "output_type": "execute_result"
    }
   ],
   "source": [
    "# Test project_id uniqueness\n",
    "fauna_df.project_id.is_unique"
   ]
  },
  {
   "cell_type": "code",
   "execution_count": 13,
   "metadata": {},
   "outputs": [
    {
     "name": "stdout",
     "output_type": "stream",
     "text": [
      "Number of unique project ids: 522\n"
     ]
    }
   ],
   "source": [
    "print(f\"Number of unique project ids: {fauna_df.project_id.nunique()}\")"
   ]
  },
  {
   "cell_type": "code",
   "execution_count": 14,
   "metadata": {},
   "outputs": [
    {
     "data": {
      "text/plain": [
       "False"
      ]
     },
     "execution_count": 14,
     "metadata": {},
     "output_type": "execute_result"
    }
   ],
   "source": [
    "# Test taxon_id uniqueness\n",
    "fauna_df.taxon_id.is_unique"
   ]
  },
  {
   "cell_type": "code",
   "execution_count": 15,
   "metadata": {},
   "outputs": [
    {
     "name": "stdout",
     "output_type": "stream",
     "text": [
      "Number of unique taxon ids: 941\n"
     ]
    }
   ],
   "source": [
    "print(f\"Number of unique taxon ids: {fauna_df.taxon_id.nunique()}\")"
   ]
  },
  {
   "cell_type": "code",
   "execution_count": 16,
   "metadata": {},
   "outputs": [
    {
     "name": "stdout",
     "output_type": "stream",
     "text": [
      "Number of unique taxon types: 14\n"
     ]
    }
   ],
   "source": [
    "print(f\"Number of unique taxon types: {fauna_df.taxon_type.nunique()}\")"
   ]
  },
  {
   "cell_type": "code",
   "execution_count": 17,
   "metadata": {},
   "outputs": [
    {
     "data": {
      "text/html": [
       "<div>\n",
       "<style scoped>\n",
       "    .dataframe tbody tr th:only-of-type {\n",
       "        vertical-align: middle;\n",
       "    }\n",
       "\n",
       "    .dataframe tbody tr th {\n",
       "        vertical-align: top;\n",
       "    }\n",
       "\n",
       "    .dataframe thead th {\n",
       "        text-align: right;\n",
       "    }\n",
       "</style>\n",
       "<table border=\"1\" class=\"dataframe\">\n",
       "  <thead>\n",
       "    <tr style=\"text-align: right;\">\n",
       "      <th></th>\n",
       "      <th>record_id</th>\n",
       "      <th>survey_id</th>\n",
       "      <th>site_id</th>\n",
       "      <th>project_id</th>\n",
       "      <th>taxon_id</th>\n",
       "      <th>taxon_type</th>\n",
       "      <th>comm_name</th>\n",
       "      <th>sci_name</th>\n",
       "      <th>totalcount</th>\n",
       "      <th>location_desc</th>\n",
       "      <th>long</th>\n",
       "      <th>lat</th>\n",
       "      <th>end_year</th>\n",
       "      <th>end_mth</th>\n",
       "      <th>end_date</th>\n",
       "      <th>start_year</th>\n",
       "      <th>start_mth</th>\n",
       "      <th>start_date</th>\n",
       "      <th>recordtype</th>\n",
       "      <th>reliability</th>\n",
       "    </tr>\n",
       "  </thead>\n",
       "  <tbody>\n",
       "    <tr>\n",
       "      <th>0</th>\n",
       "      <td>8597419</td>\n",
       "      <td>1405903</td>\n",
       "      <td>947931</td>\n",
       "      <td>4377</td>\n",
       "      <td>1557</td>\n",
       "      <td>Mussels, decopod crustacea</td>\n",
       "      <td>Common Freshwater Shrimp</td>\n",
       "      <td>Paratya australiensis</td>\n",
       "      <td>0</td>\n",
       "      <td>McCallum Creek-4_7-TR-16-333</td>\n",
       "      <td>143.649002</td>\n",
       "      <td>-37.283901</td>\n",
       "      <td>0</td>\n",
       "      <td>0</td>\n",
       "      <td>NaT</td>\n",
       "      <td>2016</td>\n",
       "      <td>12</td>\n",
       "      <td>2016-12-16</td>\n",
       "      <td>Observation</td>\n",
       "      <td>Confirmed</td>\n",
       "    </tr>\n",
       "    <tr>\n",
       "      <th>1</th>\n",
       "      <td>9067844</td>\n",
       "      <td>1776514</td>\n",
       "      <td>1084677</td>\n",
       "      <td>5326</td>\n",
       "      <td>10408</td>\n",
       "      <td>Passerine birds</td>\n",
       "      <td>Grey Shrike-thrush</td>\n",
       "      <td>Colluricincla harmonica</td>\n",
       "      <td>0</td>\n",
       "      <td>345-513-0003 FSQ1</td>\n",
       "      <td>145.768997</td>\n",
       "      <td>-37.782501</td>\n",
       "      <td>2018</td>\n",
       "      <td>9</td>\n",
       "      <td>2018-09-25</td>\n",
       "      <td>2018</td>\n",
       "      <td>8</td>\n",
       "      <td>2018-08-28</td>\n",
       "      <td>Observation with supporting evidence</td>\n",
       "      <td>Acceptable</td>\n",
       "    </tr>\n",
       "    <tr>\n",
       "      <th>2</th>\n",
       "      <td>8218590</td>\n",
       "      <td>1221401</td>\n",
       "      <td>771970</td>\n",
       "      <td>4366</td>\n",
       "      <td>10991</td>\n",
       "      <td>Passerine birds</td>\n",
       "      <td>Common Blackbird</td>\n",
       "      <td>Turdus merula</td>\n",
       "      <td>0</td>\n",
       "      <td>Ocean Acres Bush Park Nature Reserve</td>\n",
       "      <td>144.287399</td>\n",
       "      <td>-38.315601</td>\n",
       "      <td>0</td>\n",
       "      <td>0</td>\n",
       "      <td>NaT</td>\n",
       "      <td>2015</td>\n",
       "      <td>4</td>\n",
       "      <td>2015-04-12</td>\n",
       "      <td>Seen</td>\n",
       "      <td>Acceptable</td>\n",
       "    </tr>\n",
       "    <tr>\n",
       "      <th>3</th>\n",
       "      <td>9047388</td>\n",
       "      <td>1760792</td>\n",
       "      <td>1070861</td>\n",
       "      <td>5326</td>\n",
       "      <td>11242</td>\n",
       "      <td>Mammals</td>\n",
       "      <td>Black-tailed Wallaby</td>\n",
       "      <td>Wallabia bicolor</td>\n",
       "      <td>0</td>\n",
       "      <td>833-518-0004 BUQ1</td>\n",
       "      <td>148.848099</td>\n",
       "      <td>-37.601601</td>\n",
       "      <td>2018</td>\n",
       "      <td>12</td>\n",
       "      <td>2018-12-14</td>\n",
       "      <td>2018</td>\n",
       "      <td>11</td>\n",
       "      <td>2018-11-14</td>\n",
       "      <td>Observation with supporting evidence</td>\n",
       "      <td>Acceptable</td>\n",
       "    </tr>\n",
       "    <tr>\n",
       "      <th>4</th>\n",
       "      <td>9359539</td>\n",
       "      <td>1809370</td>\n",
       "      <td>1116727</td>\n",
       "      <td>5543</td>\n",
       "      <td>10525</td>\n",
       "      <td>Passerine birds</td>\n",
       "      <td>Golden-headed Cisticola</td>\n",
       "      <td>Cisticola exilis</td>\n",
       "      <td>1</td>\n",
       "      <td>MANNIBADAR (581481)</td>\n",
       "      <td>143.481903</td>\n",
       "      <td>-37.781799</td>\n",
       "      <td>2015</td>\n",
       "      <td>5</td>\n",
       "      <td>2015-05-07</td>\n",
       "      <td>2015</td>\n",
       "      <td>5</td>\n",
       "      <td>2015-05-07</td>\n",
       "      <td>Seen</td>\n",
       "      <td>Acceptable</td>\n",
       "    </tr>\n",
       "  </tbody>\n",
       "</table>\n",
       "</div>"
      ],
      "text/plain": [
       "  record_id survey_id  site_id project_id taxon_id  \\\n",
       "0   8597419   1405903   947931       4377     1557   \n",
       "1   9067844   1776514  1084677       5326    10408   \n",
       "2   8218590   1221401   771970       4366    10991   \n",
       "3   9047388   1760792  1070861       5326    11242   \n",
       "4   9359539   1809370  1116727       5543    10525   \n",
       "\n",
       "                   taxon_type                 comm_name  \\\n",
       "0  Mussels, decopod crustacea  Common Freshwater Shrimp   \n",
       "1             Passerine birds        Grey Shrike-thrush   \n",
       "2             Passerine birds          Common Blackbird   \n",
       "3                     Mammals      Black-tailed Wallaby   \n",
       "4             Passerine birds   Golden-headed Cisticola   \n",
       "\n",
       "                  sci_name  totalcount                         location_desc  \\\n",
       "0    Paratya australiensis           0          McCallum Creek-4_7-TR-16-333   \n",
       "1  Colluricincla harmonica           0                     345-513-0003 FSQ1   \n",
       "2            Turdus merula           0  Ocean Acres Bush Park Nature Reserve   \n",
       "3         Wallabia bicolor           0                     833-518-0004 BUQ1   \n",
       "4         Cisticola exilis           1                   MANNIBADAR (581481)   \n",
       "\n",
       "         long        lat  end_year  end_mth   end_date  start_year  start_mth  \\\n",
       "0  143.649002 -37.283901         0        0        NaT        2016         12   \n",
       "1  145.768997 -37.782501      2018        9 2018-09-25        2018          8   \n",
       "2  144.287399 -38.315601         0        0        NaT        2015          4   \n",
       "3  148.848099 -37.601601      2018       12 2018-12-14        2018         11   \n",
       "4  143.481903 -37.781799      2015        5 2015-05-07        2015          5   \n",
       "\n",
       "  start_date                            recordtype reliability  \n",
       "0 2016-12-16                           Observation   Confirmed  \n",
       "1 2018-08-28  Observation with supporting evidence  Acceptable  \n",
       "2 2015-04-12                                  Seen  Acceptable  \n",
       "3 2018-11-14  Observation with supporting evidence  Acceptable  \n",
       "4 2015-05-07                                  Seen  Acceptable  "
      ]
     },
     "execution_count": 17,
     "metadata": {},
     "output_type": "execute_result"
    }
   ],
   "source": [
    "# Reorder the columns\n",
    "fauna_df = fauna_df[[\"record_id\", \"survey_id\", \"site_id\", \"project_id\", \"taxon_id\", \"taxon_type\"\n",
    "                     ,\"comm_name\", \"sci_name\", \"totalcount\", \"location_desc\", \"long\", \"lat\"\n",
    "                     ,\"end_year\", \"end_mth\", \"end_date\", \"start_year\", \"start_mth\", \"start_date\"\n",
    "                     ,\"recordtype\", \"reliability\"]]\n",
    "fauna_df.head()"
   ]
  },
  {
   "cell_type": "code",
   "execution_count": 18,
   "metadata": {},
   "outputs": [
    {
     "name": "stdout",
     "output_type": "stream",
     "text": [
      "<class 'pandas.core.frame.DataFrame'>\n",
      "RangeIndex: 346829 entries, 0 to 346828\n",
      "Data columns (total 20 columns):\n",
      " #   Column         Non-Null Count   Dtype         \n",
      "---  ------         --------------   -----         \n",
      " 0   record_id      346829 non-null  object        \n",
      " 1   survey_id      346829 non-null  object        \n",
      " 2   site_id        346829 non-null  object        \n",
      " 3   project_id     346829 non-null  object        \n",
      " 4   taxon_id       346829 non-null  object        \n",
      " 5   taxon_type     346829 non-null  object        \n",
      " 6   comm_name      346829 non-null  object        \n",
      " 7   sci_name       346829 non-null  object        \n",
      " 8   totalcount     346829 non-null  int64         \n",
      " 9   location_desc  346829 non-null  object        \n",
      " 10  long           346829 non-null  float64       \n",
      " 11  lat            346829 non-null  float64       \n",
      " 12  end_year       346829 non-null  int64         \n",
      " 13  end_mth        346829 non-null  int64         \n",
      " 14  end_date       52465 non-null   datetime64[ns]\n",
      " 15  start_year     346829 non-null  int64         \n",
      " 16  start_mth      346829 non-null  int64         \n",
      " 17  start_date     346829 non-null  datetime64[ns]\n",
      " 18  recordtype     346829 non-null  object        \n",
      " 19  reliability    346829 non-null  object        \n",
      "dtypes: datetime64[ns](2), float64(2), int64(5), object(11)\n",
      "memory usage: 52.9+ MB\n"
     ]
    }
   ],
   "source": [
    "# Overview of the fauna data\n",
    "fauna_df.info()"
   ]
  },
  {
   "cell_type": "code",
   "execution_count": 21,
   "metadata": {},
   "outputs": [
    {
     "data": {
      "text/html": [
       "<div>\n",
       "<style scoped>\n",
       "    .dataframe tbody tr th:only-of-type {\n",
       "        vertical-align: middle;\n",
       "    }\n",
       "\n",
       "    .dataframe tbody tr th {\n",
       "        vertical-align: top;\n",
       "    }\n",
       "\n",
       "    .dataframe thead th {\n",
       "        text-align: right;\n",
       "    }\n",
       "</style>\n",
       "<table border=\"1\" class=\"dataframe\">\n",
       "  <thead>\n",
       "    <tr style=\"text-align: right;\">\n",
       "      <th></th>\n",
       "      <th>record_id</th>\n",
       "      <th>survey_id</th>\n",
       "      <th>site_id</th>\n",
       "      <th>project_id</th>\n",
       "      <th>taxon_id</th>\n",
       "      <th>taxon_type</th>\n",
       "      <th>comm_name</th>\n",
       "      <th>sci_name</th>\n",
       "      <th>totalcount</th>\n",
       "      <th>location_desc</th>\n",
       "      <th>long</th>\n",
       "      <th>lat</th>\n",
       "      <th>end_year</th>\n",
       "      <th>end_mth</th>\n",
       "      <th>end_date</th>\n",
       "      <th>start_year</th>\n",
       "      <th>start_mth</th>\n",
       "      <th>start_date</th>\n",
       "      <th>recordtype</th>\n",
       "      <th>reliability</th>\n",
       "    </tr>\n",
       "  </thead>\n",
       "  <tbody>\n",
       "    <tr>\n",
       "      <th>0</th>\n",
       "      <td>8597419</td>\n",
       "      <td>1405903</td>\n",
       "      <td>947931</td>\n",
       "      <td>4377</td>\n",
       "      <td>1557</td>\n",
       "      <td>Mussels, decopod crustacea</td>\n",
       "      <td>Common Freshwater Shrimp</td>\n",
       "      <td>Paratya australiensis</td>\n",
       "      <td>0</td>\n",
       "      <td>McCallum Creek-4_7-TR-16-333</td>\n",
       "      <td>143.649002</td>\n",
       "      <td>-37.283901</td>\n",
       "      <td>0</td>\n",
       "      <td>0</td>\n",
       "      <td>NaT</td>\n",
       "      <td>2016</td>\n",
       "      <td>12</td>\n",
       "      <td>2016-12-16</td>\n",
       "      <td>Observation</td>\n",
       "      <td>Confirmed</td>\n",
       "    </tr>\n",
       "    <tr>\n",
       "      <th>1</th>\n",
       "      <td>9067844</td>\n",
       "      <td>1776514</td>\n",
       "      <td>1084677</td>\n",
       "      <td>5326</td>\n",
       "      <td>10408</td>\n",
       "      <td>Passerine birds</td>\n",
       "      <td>Grey Shrike-thrush</td>\n",
       "      <td>Colluricincla harmonica</td>\n",
       "      <td>0</td>\n",
       "      <td>345-513-0003 FSQ1</td>\n",
       "      <td>145.768997</td>\n",
       "      <td>-37.782501</td>\n",
       "      <td>2018</td>\n",
       "      <td>9</td>\n",
       "      <td>2018-09-25</td>\n",
       "      <td>2018</td>\n",
       "      <td>8</td>\n",
       "      <td>2018-08-28</td>\n",
       "      <td>Observation with supporting evidence</td>\n",
       "      <td>Acceptable</td>\n",
       "    </tr>\n",
       "    <tr>\n",
       "      <th>2</th>\n",
       "      <td>8218590</td>\n",
       "      <td>1221401</td>\n",
       "      <td>771970</td>\n",
       "      <td>4366</td>\n",
       "      <td>10991</td>\n",
       "      <td>Passerine birds</td>\n",
       "      <td>Common Blackbird</td>\n",
       "      <td>Turdus merula</td>\n",
       "      <td>0</td>\n",
       "      <td>Ocean Acres Bush Park Nature Reserve</td>\n",
       "      <td>144.287399</td>\n",
       "      <td>-38.315601</td>\n",
       "      <td>0</td>\n",
       "      <td>0</td>\n",
       "      <td>NaT</td>\n",
       "      <td>2015</td>\n",
       "      <td>4</td>\n",
       "      <td>2015-04-12</td>\n",
       "      <td>Seen</td>\n",
       "      <td>Acceptable</td>\n",
       "    </tr>\n",
       "    <tr>\n",
       "      <th>3</th>\n",
       "      <td>9047388</td>\n",
       "      <td>1760792</td>\n",
       "      <td>1070861</td>\n",
       "      <td>5326</td>\n",
       "      <td>11242</td>\n",
       "      <td>Mammals</td>\n",
       "      <td>Black-tailed Wallaby</td>\n",
       "      <td>Wallabia bicolor</td>\n",
       "      <td>0</td>\n",
       "      <td>833-518-0004 BUQ1</td>\n",
       "      <td>148.848099</td>\n",
       "      <td>-37.601601</td>\n",
       "      <td>2018</td>\n",
       "      <td>12</td>\n",
       "      <td>2018-12-14</td>\n",
       "      <td>2018</td>\n",
       "      <td>11</td>\n",
       "      <td>2018-11-14</td>\n",
       "      <td>Observation with supporting evidence</td>\n",
       "      <td>Acceptable</td>\n",
       "    </tr>\n",
       "    <tr>\n",
       "      <th>6</th>\n",
       "      <td>9067841</td>\n",
       "      <td>1776514</td>\n",
       "      <td>1084677</td>\n",
       "      <td>5326</td>\n",
       "      <td>10488</td>\n",
       "      <td>Passerine birds</td>\n",
       "      <td>White-browed Scrubwren</td>\n",
       "      <td>Sericornis frontalis</td>\n",
       "      <td>0</td>\n",
       "      <td>345-513-0003 FSQ1</td>\n",
       "      <td>145.768997</td>\n",
       "      <td>-37.782501</td>\n",
       "      <td>2018</td>\n",
       "      <td>9</td>\n",
       "      <td>2018-09-25</td>\n",
       "      <td>2018</td>\n",
       "      <td>8</td>\n",
       "      <td>2018-08-28</td>\n",
       "      <td>Observation with supporting evidence</td>\n",
       "      <td>Acceptable</td>\n",
       "    </tr>\n",
       "    <tr>\n",
       "      <th>9</th>\n",
       "      <td>8897604</td>\n",
       "      <td>1686135</td>\n",
       "      <td>1000965</td>\n",
       "      <td>4335</td>\n",
       "      <td>528552</td>\n",
       "      <td>Mammals</td>\n",
       "      <td>Red Fox</td>\n",
       "      <td>Vulpes vulpes</td>\n",
       "      <td>0</td>\n",
       "      <td>Basalt 10</td>\n",
       "      <td>144.098206</td>\n",
       "      <td>-37.270500</td>\n",
       "      <td>2018</td>\n",
       "      <td>2</td>\n",
       "      <td>2018-02-07</td>\n",
       "      <td>2018</td>\n",
       "      <td>1</td>\n",
       "      <td>2018-01-17</td>\n",
       "      <td>Observation with supporting evidence</td>\n",
       "      <td>Acceptable</td>\n",
       "    </tr>\n",
       "    <tr>\n",
       "      <th>10</th>\n",
       "      <td>9345216</td>\n",
       "      <td>1799930</td>\n",
       "      <td>1107289</td>\n",
       "      <td>2936</td>\n",
       "      <td>5140</td>\n",
       "      <td>Fish</td>\n",
       "      <td>Dry waterbody</td>\n",
       "      <td>Misc Dry</td>\n",
       "      <td>0</td>\n",
       "      <td>Pig and Whistle Creek-2_23-TR-18-421</td>\n",
       "      <td>147.853394</td>\n",
       "      <td>-37.532299</td>\n",
       "      <td>0</td>\n",
       "      <td>0</td>\n",
       "      <td>NaT</td>\n",
       "      <td>2018</td>\n",
       "      <td>11</td>\n",
       "      <td>2018-11-16</td>\n",
       "      <td>Observation</td>\n",
       "      <td>Confirmed</td>\n",
       "    </tr>\n",
       "    <tr>\n",
       "      <th>12</th>\n",
       "      <td>8432377</td>\n",
       "      <td>1292811</td>\n",
       "      <td>840246</td>\n",
       "      <td>4551</td>\n",
       "      <td>10364</td>\n",
       "      <td>Passerine birds</td>\n",
       "      <td>Willie Wagtail</td>\n",
       "      <td>Rhipidura leucophrys</td>\n",
       "      <td>0</td>\n",
       "      <td>Bulla Hill and School Hill</td>\n",
       "      <td>144.802200</td>\n",
       "      <td>-37.634102</td>\n",
       "      <td>0</td>\n",
       "      <td>0</td>\n",
       "      <td>NaT</td>\n",
       "      <td>2015</td>\n",
       "      <td>5</td>\n",
       "      <td>2015-05-18</td>\n",
       "      <td>Observation</td>\n",
       "      <td>Acceptable</td>\n",
       "    </tr>\n",
       "    <tr>\n",
       "      <th>13</th>\n",
       "      <td>8956790</td>\n",
       "      <td>1715391</td>\n",
       "      <td>1027944</td>\n",
       "      <td>4836</td>\n",
       "      <td>11003</td>\n",
       "      <td>Mammals</td>\n",
       "      <td>Short-beaked Echidna</td>\n",
       "      <td>Tachyglossus aculeatus</td>\n",
       "      <td>0</td>\n",
       "      <td>New Holland Mouse camera survey_Site_NHM423</td>\n",
       "      <td>147.533798</td>\n",
       "      <td>-38.084000</td>\n",
       "      <td>2018</td>\n",
       "      <td>3</td>\n",
       "      <td>2018-03-20</td>\n",
       "      <td>2018</td>\n",
       "      <td>3</td>\n",
       "      <td>2018-03-07</td>\n",
       "      <td>Observation with supporting evidence</td>\n",
       "      <td>Acceptable</td>\n",
       "    </tr>\n",
       "    <tr>\n",
       "      <th>15</th>\n",
       "      <td>8994856</td>\n",
       "      <td>1741637</td>\n",
       "      <td>1052493</td>\n",
       "      <td>5326</td>\n",
       "      <td>11115</td>\n",
       "      <td>Mammals</td>\n",
       "      <td>Mountain Brush-tailed Possum</td>\n",
       "      <td>Trichosurus cunninghami</td>\n",
       "      <td>0</td>\n",
       "      <td>298-516-0003</td>\n",
       "      <td>145.521393</td>\n",
       "      <td>-37.442902</td>\n",
       "      <td>2018</td>\n",
       "      <td>8</td>\n",
       "      <td>2018-08-23</td>\n",
       "      <td>2018</td>\n",
       "      <td>7</td>\n",
       "      <td>2018-07-27</td>\n",
       "      <td>Observation with supporting evidence</td>\n",
       "      <td>Acceptable</td>\n",
       "    </tr>\n",
       "  </tbody>\n",
       "</table>\n",
       "</div>"
      ],
      "text/plain": [
       "   record_id survey_id  site_id project_id taxon_id  \\\n",
       "0    8597419   1405903   947931       4377     1557   \n",
       "1    9067844   1776514  1084677       5326    10408   \n",
       "2    8218590   1221401   771970       4366    10991   \n",
       "3    9047388   1760792  1070861       5326    11242   \n",
       "6    9067841   1776514  1084677       5326    10488   \n",
       "9    8897604   1686135  1000965       4335   528552   \n",
       "10   9345216   1799930  1107289       2936     5140   \n",
       "12   8432377   1292811   840246       4551    10364   \n",
       "13   8956790   1715391  1027944       4836    11003   \n",
       "15   8994856   1741637  1052493       5326    11115   \n",
       "\n",
       "                    taxon_type                     comm_name  \\\n",
       "0   Mussels, decopod crustacea      Common Freshwater Shrimp   \n",
       "1              Passerine birds            Grey Shrike-thrush   \n",
       "2              Passerine birds              Common Blackbird   \n",
       "3                      Mammals          Black-tailed Wallaby   \n",
       "6              Passerine birds        White-browed Scrubwren   \n",
       "9                      Mammals                       Red Fox   \n",
       "10                        Fish                 Dry waterbody   \n",
       "12             Passerine birds                Willie Wagtail   \n",
       "13                     Mammals          Short-beaked Echidna   \n",
       "15                     Mammals  Mountain Brush-tailed Possum   \n",
       "\n",
       "                   sci_name  totalcount  \\\n",
       "0     Paratya australiensis           0   \n",
       "1   Colluricincla harmonica           0   \n",
       "2             Turdus merula           0   \n",
       "3          Wallabia bicolor           0   \n",
       "6      Sericornis frontalis           0   \n",
       "9             Vulpes vulpes           0   \n",
       "10                 Misc Dry           0   \n",
       "12     Rhipidura leucophrys           0   \n",
       "13   Tachyglossus aculeatus           0   \n",
       "15  Trichosurus cunninghami           0   \n",
       "\n",
       "                                  location_desc        long        lat  \\\n",
       "0                  McCallum Creek-4_7-TR-16-333  143.649002 -37.283901   \n",
       "1                             345-513-0003 FSQ1  145.768997 -37.782501   \n",
       "2          Ocean Acres Bush Park Nature Reserve  144.287399 -38.315601   \n",
       "3                             833-518-0004 BUQ1  148.848099 -37.601601   \n",
       "6                             345-513-0003 FSQ1  145.768997 -37.782501   \n",
       "9                                     Basalt 10  144.098206 -37.270500   \n",
       "10         Pig and Whistle Creek-2_23-TR-18-421  147.853394 -37.532299   \n",
       "12                   Bulla Hill and School Hill  144.802200 -37.634102   \n",
       "13  New Holland Mouse camera survey_Site_NHM423  147.533798 -38.084000   \n",
       "15                                 298-516-0003  145.521393 -37.442902   \n",
       "\n",
       "    end_year  end_mth   end_date  start_year  start_mth start_date  \\\n",
       "0          0        0        NaT        2016         12 2016-12-16   \n",
       "1       2018        9 2018-09-25        2018          8 2018-08-28   \n",
       "2          0        0        NaT        2015          4 2015-04-12   \n",
       "3       2018       12 2018-12-14        2018         11 2018-11-14   \n",
       "6       2018        9 2018-09-25        2018          8 2018-08-28   \n",
       "9       2018        2 2018-02-07        2018          1 2018-01-17   \n",
       "10         0        0        NaT        2018         11 2018-11-16   \n",
       "12         0        0        NaT        2015          5 2015-05-18   \n",
       "13      2018        3 2018-03-20        2018          3 2018-03-07   \n",
       "15      2018        8 2018-08-23        2018          7 2018-07-27   \n",
       "\n",
       "                              recordtype reliability  \n",
       "0                            Observation   Confirmed  \n",
       "1   Observation with supporting evidence  Acceptable  \n",
       "2                                   Seen  Acceptable  \n",
       "3   Observation with supporting evidence  Acceptable  \n",
       "6   Observation with supporting evidence  Acceptable  \n",
       "9   Observation with supporting evidence  Acceptable  \n",
       "10                           Observation   Confirmed  \n",
       "12                           Observation  Acceptable  \n",
       "13  Observation with supporting evidence  Acceptable  \n",
       "15  Observation with supporting evidence  Acceptable  "
      ]
     },
     "execution_count": 21,
     "metadata": {},
     "output_type": "execute_result"
    }
   ],
   "source": [
    "# We can see that the TOTALCOUNT of some records is 0. Let's see what they are.\n",
    "zero_totalcount = fauna_df[fauna_df[\"totalcount\"] == 0]\n",
    "zero_totalcount.head(10)"
   ]
  },
  {
   "cell_type": "code",
   "execution_count": 23,
   "metadata": {},
   "outputs": [
    {
     "data": {
      "text/plain": [
       "69147"
      ]
     },
     "execution_count": 23,
     "metadata": {},
     "output_type": "execute_result"
    }
   ],
   "source": [
    "# Count the number of rows with totalcount equal to 0\n",
    "zero_totalcount.shape[0]"
   ]
  },
  {
   "cell_type": "code",
   "execution_count": 24,
   "metadata": {},
   "outputs": [
    {
     "data": {
      "text/plain": [
       "19.936914156544002"
      ]
     },
     "execution_count": 24,
     "metadata": {},
     "output_type": "execute_result"
    }
   ],
   "source": [
    "# Percentage of number of rows with totalcount equal to 0 against total number of rows of the dataframe\n",
    "(zero_totalcount.shape[0]/fauna_df.shape[0])*100"
   ]
  },
  {
   "cell_type": "code",
   "execution_count": null,
   "metadata": {},
   "outputs": [],
   "source": [
    "# Overvi unique taxon types"
   ]
  },
  {
   "cell_type": "code",
   "execution_count": null,
   "metadata": {},
   "outputs": [],
   "source": []
  },
  {
   "cell_type": "code",
   "execution_count": null,
   "metadata": {},
   "outputs": [],
   "source": []
  },
  {
   "cell_type": "code",
   "execution_count": null,
   "metadata": {},
   "outputs": [],
   "source": []
  },
  {
   "cell_type": "code",
   "execution_count": null,
   "metadata": {},
   "outputs": [],
   "source": []
  },
  {
   "cell_type": "code",
   "execution_count": null,
   "metadata": {},
   "outputs": [],
   "source": []
  },
  {
   "cell_type": "code",
   "execution_count": null,
   "metadata": {},
   "outputs": [],
   "source": []
  },
  {
   "cell_type": "code",
   "execution_count": null,
   "metadata": {},
   "outputs": [],
   "source": []
  },
  {
   "cell_type": "code",
   "execution_count": null,
   "metadata": {},
   "outputs": [],
   "source": []
  },
  {
   "cell_type": "code",
   "execution_count": null,
   "metadata": {},
   "outputs": [],
   "source": []
  },
  {
   "cell_type": "code",
   "execution_count": null,
   "metadata": {},
   "outputs": [],
   "source": []
  }
 ],
 "metadata": {
  "kernelspec": {
   "display_name": "Python [conda env:PythonData] *",
   "language": "python",
   "name": "conda-env-PythonData-py"
  },
  "language_info": {
   "codemirror_mode": {
    "name": "ipython",
    "version": 3
   },
   "file_extension": ".py",
   "mimetype": "text/x-python",
   "name": "python",
   "nbconvert_exporter": "python",
   "pygments_lexer": "ipython3",
   "version": "3.7.6"
  },
  "toc": {
   "base_numbering": 1,
   "nav_menu": {},
   "number_sections": true,
   "sideBar": true,
   "skip_h1_title": false,
   "title_cell": "Table of Contents",
   "title_sidebar": "Contents",
   "toc_cell": false,
   "toc_position": {},
   "toc_section_display": true,
   "toc_window_display": false
  },
  "varInspector": {
   "cols": {
    "lenName": 16,
    "lenType": 16,
    "lenVar": 40
   },
   "kernels_config": {
    "python": {
     "delete_cmd_postfix": "",
     "delete_cmd_prefix": "del ",
     "library": "var_list.py",
     "varRefreshCmd": "print(var_dic_list())"
    },
    "r": {
     "delete_cmd_postfix": ") ",
     "delete_cmd_prefix": "rm(",
     "library": "var_list.r",
     "varRefreshCmd": "cat(var_dic_list()) "
    }
   },
   "types_to_exclude": [
    "module",
    "function",
    "builtin_function_or_method",
    "instance",
    "_Feature"
   ],
   "window_display": false
  }
 },
 "nbformat": 4,
 "nbformat_minor": 4
}
